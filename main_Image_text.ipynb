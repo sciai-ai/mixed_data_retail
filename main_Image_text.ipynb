{
  "nbformat": 4,
  "nbformat_minor": 0,
  "metadata": {
    "colab": {
      "name": "main_Image_text.ipynb",
      "provenance": [],
      "collapsed_sections": [],
      "machine_shape": "hm",
      "include_colab_link": true
    },
    "kernelspec": {
      "name": "python3",
      "display_name": "Python 3"
    },
    "accelerator": "TPU"
  },
  "cells": [
    {
      "cell_type": "markdown",
      "metadata": {
        "id": "view-in-github",
        "colab_type": "text"
      },
      "source": [
        "<a href=\"https://colab.research.google.com/github/talalba/mixed_data_retail/blob/master/main_Image_text.ipynb\" target=\"_parent\"><img src=\"https://colab.research.google.com/assets/colab-badge.svg\" alt=\"Open In Colab\"/></a>"
      ]
    },
    {
      "cell_type": "code",
      "metadata": {
        "id": "JHGzB9VZNwj3",
        "colab_type": "code",
        "colab": {
          "base_uri": "https://localhost:8080/",
          "height": 34
        },
        "outputId": "f0bab6d7-2cde-4f67-9601-d77d1f854352"
      },
      "source": [
        "# import the necessary packages\n",
        "from sklearn.model_selection import train_test_split\n",
        "from keras.layers.core import Dense\n",
        "from keras.models import Model\n",
        "from keras.optimizers import Adam\n",
        "from keras.layers import concatenate\n",
        "import numpy as np\n",
        "import argparse\n",
        "import locale\n",
        "import os\n",
        "import pandas as pd\n",
        "import csv\n",
        "import glob\n",
        "import os\n",
        "from PIL import Image\n",
        "import requests\n",
        "from io import BytesIO\n",
        "import matplotlib.pyplot as plt\n",
        "from tqdm import tqdm\n",
        "from skimage.io import imread\n",
        "from sklearn.model_selection import train_test_split\n",
        "from pandas import read_excel\n",
        "import cv2\n",
        "import pathlib\n",
        "import multiprocessing\n",
        "from joblib import Parallel, delayed\n",
        "num_cores = multiprocessing.cpu_count()\n",
        "# from models import models\n",
        "import importlib\n",
        "import locale\n",
        "from random import randrange\n",
        "from sklearn.preprocessing import MinMaxScaler\n",
        "from google.colab import drive\n",
        "# drive.mount('/content/drive')\n",
        "import gzip\n"
      ],
      "execution_count": 2,
      "outputs": [
        {
          "output_type": "stream",
          "text": [
            "Using TensorFlow backend.\n"
          ],
          "name": "stderr"
        }
      ]
    },
    {
      "cell_type": "code",
      "metadata": {
        "id": "RCVPXmJLEDb6",
        "colab_type": "code",
        "colab": {}
      },
      "source": [
        "def get_images(ii):\n",
        "    try:\n",
        "        # print(ii)\n",
        "        # ii, data_all,directoryPath = arguments\n",
        "        url = data_all['Image'][ii]\n",
        "        if not url.startswith('https:'):\n",
        "            url = 'https:' + url\n",
        "        response = requests.get(url)\n",
        "        if response.status_code == 200:\n",
        "            with open(directoryPath+'images2/'+data_all['Id_x'][ii].astype(str)+'.jpg', 'wb') as f:\n",
        "                f.write(response.content)\n",
        "    except:\n",
        "        pass\n",
        "\n",
        "\n",
        "\n",
        "if __name__ == \"__main__\":\n",
        "     Parallel(n_jobs=num_cores)(delayed(get_images)(ii=i) for i in tqdm(range(0,data_all.shape[0]-1)))\n"
      ],
      "execution_count": 0,
      "outputs": []
    },
    {
      "cell_type": "code",
      "metadata": {
        "id": "laSobBExSMcF",
        "colab_type": "code",
        "outputId": "c3910c1a-df8e-4846-b6d6-cafaa1ee33fd",
        "colab": {
          "base_uri": "https://localhost:8080/",
          "height": 122
        }
      },
      "source": [
        "from google.colab import drive\n",
        "drive.mount('/content/drive')"
      ],
      "execution_count": 1,
      "outputs": [
        {
          "output_type": "stream",
          "text": [
            "Go to this URL in a browser: https://accounts.google.com/o/oauth2/auth?client_id=947318989803-6bn6qk8qdgf4n4g3pfee6491hc0brc4i.apps.googleusercontent.com&redirect_uri=urn%3aietf%3awg%3aoauth%3a2.0%3aoob&response_type=code&scope=email%20https%3a%2f%2fwww.googleapis.com%2fauth%2fdocs.test%20https%3a%2f%2fwww.googleapis.com%2fauth%2fdrive%20https%3a%2f%2fwww.googleapis.com%2fauth%2fdrive.photos.readonly%20https%3a%2f%2fwww.googleapis.com%2fauth%2fpeopleapi.readonly\n",
            "\n",
            "Enter your authorization code:\n",
            "··········\n",
            "Mounted at /content/drive\n"
          ],
          "name": "stdout"
        }
      ]
    },
    {
      "cell_type": "code",
      "metadata": {
        "id": "MlgJK8krSXEk",
        "colab_type": "code",
        "outputId": "632199b6-9160-4b70-ad37-eef4859721a1",
        "colab": {
          "base_uri": "https://localhost:8080/",
          "height": 419
        }
      },
      "source": [
        "directoryPath = '/content/drive/My Drive/'\n",
        "image_path = '/content/drive/My Drive//Colab Notebooks/images2/'\n",
        "# ! ls /content/drive/My\\ Drive/\n",
        "data_all = pd.read_pickle(directoryPath+'dbo.data_all3.pkl')\n",
        "# f = gzip.GzipFile(directoryPath+'data_images.npy.gz', \"r\")\n",
        "# data_images = np.load(f)\n",
        "# train_data_with_images = pd.read_pickle(directoryPath+'dbo.train_data_with_images.pkl')\n",
        "target_variable = 'CPM'\n",
        "\n",
        "# train_data = data_all[['Id_x','Impressions','AveragePosition','Sold','Rating',target_variable]]\n",
        "train_data = data_all[['Id_x',target_variable,'Title']]\n",
        "train_data = train_data.loc[train_data[target_variable]>0]\n",
        "train_data = train_data.dropna()\n",
        "train_data.to_pickle(directoryPath+'train_data_saved.pkl')\n",
        "# np.save(directoryPath+'train_data_saved',train_data)\n",
        "train_data = pd.read_pickle(directoryPath+'train_data_saved.pkl')"
      ],
      "execution_count": 0,
      "outputs": [
        {
          "output_type": "execute_result",
          "data": {
            "text/html": [
              "<div>\n",
              "<style scoped>\n",
              "    .dataframe tbody tr th:only-of-type {\n",
              "        vertical-align: middle;\n",
              "    }\n",
              "\n",
              "    .dataframe tbody tr th {\n",
              "        vertical-align: top;\n",
              "    }\n",
              "\n",
              "    .dataframe thead th {\n",
              "        text-align: right;\n",
              "    }\n",
              "</style>\n",
              "<table border=\"1\" class=\"dataframe\">\n",
              "  <thead>\n",
              "    <tr style=\"text-align: right;\">\n",
              "      <th></th>\n",
              "      <th>Id_x</th>\n",
              "      <th>CPM</th>\n",
              "      <th>Title</th>\n",
              "    </tr>\n",
              "  </thead>\n",
              "  <tbody>\n",
              "    <tr>\n",
              "      <th>0</th>\n",
              "      <td>2517034</td>\n",
              "      <td>5000.00</td>\n",
              "      <td>Braun Forehead Touch Thermometer BFH175 New ! ...</td>\n",
              "    </tr>\n",
              "    <tr>\n",
              "      <th>15</th>\n",
              "      <td>1224922</td>\n",
              "      <td>86.21</td>\n",
              "      <td>Duck Baby Bath Thermometer Card With New Movin...</td>\n",
              "    </tr>\n",
              "    <tr>\n",
              "      <th>17</th>\n",
              "      <td>2473580</td>\n",
              "      <td>43.10</td>\n",
              "      <td>*LCD Digital Non-contact IR Infrared Thermomet...</td>\n",
              "    </tr>\n",
              "    <tr>\n",
              "      <th>24</th>\n",
              "      <td>2506126</td>\n",
              "      <td>2500.00</td>\n",
              "      <td>Braun ThermoScan 7 IRT6520 Baby/Adult Professi...</td>\n",
              "    </tr>\n",
              "    <tr>\n",
              "      <th>25</th>\n",
              "      <td>2504945</td>\n",
              "      <td>2000.00</td>\n",
              "      <td>Digital Infrared Forehead Body Thermometer Gun...</td>\n",
              "    </tr>\n",
              "    <tr>\n",
              "      <th>...</th>\n",
              "      <td>...</td>\n",
              "      <td>...</td>\n",
              "      <td>...</td>\n",
              "    </tr>\n",
              "    <tr>\n",
              "      <th>41263</th>\n",
              "      <td>1783895</td>\n",
              "      <td>270.27</td>\n",
              "      <td>Baby Stroller Cup Holder Drink Bag Milk Bottle...</td>\n",
              "    </tr>\n",
              "    <tr>\n",
              "      <th>41695</th>\n",
              "      <td>1222898</td>\n",
              "      <td>10000.00</td>\n",
              "      <td>Hearing Protection For Babies Ear Care</td>\n",
              "    </tr>\n",
              "    <tr>\n",
              "      <th>42065</th>\n",
              "      <td>1519584</td>\n",
              "      <td>2000.00</td>\n",
              "      <td>Portable Doctor Nurse Medical Trolley Toy Girl...</td>\n",
              "    </tr>\n",
              "    <tr>\n",
              "      <th>42079</th>\n",
              "      <td>2943744</td>\n",
              "      <td>10000.00</td>\n",
              "      <td>Stainless Steel Touchless Handsfree Automatic ...</td>\n",
              "    </tr>\n",
              "    <tr>\n",
              "      <th>42124</th>\n",
              "      <td>1171376</td>\n",
              "      <td>1666.67</td>\n",
              "      <td>Baby Wipe Dispenser Baby Wipes Case Baby Wipe ...</td>\n",
              "    </tr>\n",
              "  </tbody>\n",
              "</table>\n",
              "<p>309 rows × 3 columns</p>\n",
              "</div>"
            ],
            "text/plain": [
              "          Id_x       CPM                                              Title\n",
              "0      2517034   5000.00  Braun Forehead Touch Thermometer BFH175 New ! ...\n",
              "15     1224922     86.21  Duck Baby Bath Thermometer Card With New Movin...\n",
              "17     2473580     43.10  *LCD Digital Non-contact IR Infrared Thermomet...\n",
              "24     2506126   2500.00  Braun ThermoScan 7 IRT6520 Baby/Adult Professi...\n",
              "25     2504945   2000.00  Digital Infrared Forehead Body Thermometer Gun...\n",
              "...        ...       ...                                                ...\n",
              "41263  1783895    270.27  Baby Stroller Cup Holder Drink Bag Milk Bottle...\n",
              "41695  1222898  10000.00             Hearing Protection For Babies Ear Care\n",
              "42065  1519584   2000.00  Portable Doctor Nurse Medical Trolley Toy Girl...\n",
              "42079  2943744  10000.00  Stainless Steel Touchless Handsfree Automatic ...\n",
              "42124  1171376   1666.67  Baby Wipe Dispenser Baby Wipes Case Baby Wipe ...\n",
              "\n",
              "[309 rows x 3 columns]"
            ]
          },
          "metadata": {
            "tags": []
          },
          "execution_count": 9
        }
      ]
    },
    {
      "cell_type": "code",
      "metadata": {
        "id": "7zchokmcof6P",
        "colab_type": "code",
        "outputId": "2c085db3-88c4-49dc-cf39-f5857d40702a",
        "colab": {
          "base_uri": "https://localhost:8080/",
          "height": 34
        }
      },
      "source": [
        "# loading training images and resize\n",
        "train_img = []\n",
        "id = []\n",
        "heights = []\n",
        "widths = []\n",
        "i=0\n",
        "for img_name in tqdm(train_data['Id_x'].values.astype(str)):\n",
        "    # defining the image path\n",
        "    path = image_path + img_name + '.jpg'\n",
        "    try:\n",
        "        # reading the image\n",
        "        img = cv2.imread(path)\n",
        "        heights.append(img.shape[0])\n",
        "        widths.append(img.shape[1])\n",
        "        # normalizing the pixel values\n",
        "        # converting the type of pixel to float 32\n",
        "        # img = img.astype('float32')\n",
        "        # appending the image into the list\n",
        "        img = cv2.resize(img, (128, 128))\n",
        "        img = img/255.0\n",
        "        train_img.append(img)\n",
        "        id.append(img_name)\n",
        "    except:\n",
        "        pass\n",
        "\n",
        "data_images =  np.array(train_img)\n",
        "len(data_images)\n",
        "len(id)\n",
        "# type(data_images[1,1,1][0])\n",
        "np.save(directoryPath+'data_images_saved', data_images)\n",
        "\n",
        "data_images = np.load(directoryPath+'data_images_saved.npy')"
      ],
      "execution_count": 0,
      "outputs": [
        {
          "output_type": "stream",
          "text": [
            "100%|██████████| 309/309 [08:23<00:00,  1.63s/it]\n"
          ],
          "name": "stderr"
        }
      ]
    },
    {
      "cell_type": "code",
      "metadata": {
        "id": "HyqC8UreeKGk",
        "colab_type": "code",
        "colab": {}
      },
      "source": [
        "train_data_with_images = train_data.loc[train_data['Id_x'].isin(id)]\n",
        "\n",
        "df = train_data_with_images.drop(['Id_x'],axis=1)\n",
        "\n",
        "# df['CPM'] = np.log(df['CPM'])\n",
        "images = data_images\n",
        "\n",
        "df.to_pickle(directoryPath+'df.pkl')\n",
        "np.save(directoryPath+'images_saved', images)\n",
        "\n",
        "# split = train_test_split(df, images, test_size=0.4, random_state=42)\n",
        "# (trainAttrX, testAttrX, trainImagesX, testImagesX) = split\n",
        "\n",
        "\n",
        "# cs = MinMaxScaler()\n",
        "# trainX = cs.fit_transform(trainAttrX.drop([target_variable],axis=1))\n",
        "# testX = cs.transform(testAttrX.drop([target_variable],axis=1))\n",
        "\n",
        "# trainX = trainAttrX.drop([target_variable],axis=1).values\n",
        "# testX = testAttrX.drop([target_variable],axis=1).values\n",
        "\n",
        "\n",
        "# trainX.shape\n",
        "# testX.shape\n",
        "\n",
        "# trainAttrX[target_variable] = np.log(trainAttrX[target_variable])\n",
        "\n",
        "maxPrice = trainAttrX[target_variable].max()\n",
        "trainY = (trainAttrX[target_variable]/ maxPrice).values\n",
        "testY = (testAttrX[target_variable]/ maxPrice).values\n",
        "\n",
        "# trainY = (trainAttrX[target_variable]).values\n",
        "# testY = (testAttrX[target_variable]).values\n"
      ],
      "execution_count": 0,
      "outputs": []
    },
    {
      "cell_type": "code",
      "metadata": {
        "id": "oD_Vr0sYVC9F",
        "colab_type": "code",
        "outputId": "715fb6ce-1f2b-4a40-86c9-22af65cd6c8a",
        "colab": {
          "base_uri": "https://localhost:8080/",
          "height": 51
        }
      },
      "source": [
        "print(data_images.shape)\n",
        "print(train_data_with_images.shape)"
      ],
      "execution_count": 0,
      "outputs": [
        {
          "output_type": "stream",
          "text": [
            "(266, 128, 128, 3)\n",
            "(266, 3)\n"
          ],
          "name": "stdout"
        }
      ]
    },
    {
      "cell_type": "code",
      "metadata": {
        "id": "U_G2lla4Vj3Y",
        "colab_type": "code",
        "colab": {}
      },
      "source": [
        "# # import the necessary packages\n",
        "# from keras.models import Sequential\n",
        "# from keras.layers.normalization import BatchNormalization\n",
        "# from keras.layers.convolutional import Conv2D\n",
        "# from keras.layers.convolutional import MaxPooling2D\n",
        "# from keras.layers.core import Activation\n",
        "# from keras.layers.core import Dropout\n",
        "# from keras.layers.core import Dense\n",
        "# from keras.layers import Flatten\n",
        "# from keras.layers import Input\n",
        "# from keras.models import Model\n",
        "# def create_cnn(width, height, depth, filters=(16, 32, 64), regress=False):\n",
        "# \t# initialize the input shape and channel dimension, assuming\n",
        "# \t# TensorFlow/channels-last ordering\n",
        "# \tinputShape = (height, width, depth)\n",
        "# \tchanDim = -1\n",
        "\n",
        "# \t# define the model input\n",
        "# \tinputs = Input(shape=inputShape)\n",
        "\n",
        "# \t# loop over the number of filters\n",
        "# \tfor (i, f) in enumerate(filters):\n",
        "# \t\t# if this is the first CONV layer then set the input\n",
        "# \t\t# appropriately\n",
        "# \t\tif i == 0:\n",
        "# \t\t\tx = inputs\n",
        "\n",
        "# \t\t# CONV => RELU => BN => POOL\n",
        "# \t\tx = Conv2D(f, (3, 3), padding=\"same\")(x)\n",
        "# \t\tx = Activation(\"relu\")(x)\n",
        "# \t\tx = BatchNormalization(axis=chanDim)(x)\n",
        "# \t\tx = MaxPooling2D(pool_size=(2, 2))(x)\n",
        "# \t\t# flatten the volume, then FC => RELU => BN => DROPOUT\n",
        "# \t\tx = Flatten()(x)\n",
        "# \t\tx = Dense(16)(x)\n",
        "# \t\tx = Activation(\"relu\")(x)\n",
        "# \t\tx = BatchNormalization(axis=chanDim)(x)\n",
        "# \t\tx = Dropout(0.5)(x)\n",
        "\n",
        "# \t\t# apply another FC layer, this one to match the number of nodes\n",
        "# \t\t# coming out of the MLP\n",
        "# \t\tx = Dense(4)(x)\n",
        "# \t\tx = Activation(\"relu\")(x)\n",
        "\n",
        "# \t\t# check to see if the regression node should be added\n",
        "# \t\tif regress:\n",
        "# \t\t\tx = Dense(1, activation=\"linear\")(x)\n",
        "\n",
        "# \t\t# construct the CNN\n",
        "# \t\tmodel = Model(inputs, x)\n",
        "\n",
        "# \t\t# return the CNN\n",
        "# \t\treturn model\n"
      ],
      "execution_count": 0,
      "outputs": []
    },
    {
      "cell_type": "code",
      "metadata": {
        "id": "-nbeSq7OVy0q",
        "colab_type": "code",
        "colab": {}
      },
      "source": [
        "def create_cnn():\n",
        "  import keras\n",
        "  from keras.models import Sequential\n",
        "  from keras.layers import Dense, Dropout, Flatten,BatchNormalization\n",
        "  from keras.layers import Conv2D, MaxPooling2D\n",
        "  from keras.callbacks import ModelCheckpoint\n",
        "  from keras.models import model_from_json\n",
        "  from keras import backend as K\n",
        "  from keras.datasets import mnist\n",
        "  import numpy as np\n",
        "  # opt=keras.optimizers.rmsprop(lr=0.0001, decay=1e-6)\n",
        "  input_shape = (128,128,3)\n",
        "  model = Sequential()\n",
        "  model.add(Conv2D(32, kernel_size=(3, 3),\n",
        "                  activation='relu',\n",
        "                  input_shape=input_shape))\n",
        "  model.add(BatchNormalization())\n",
        "  model.add(MaxPooling2D(pool_size=(2, 2)))\n",
        "  model.add(Conv2D(64, (3, 3), activation='relu'))\n",
        "  model.add(BatchNormalization())\n",
        "  model.add(MaxPooling2D(pool_size=(2, 2)))\n",
        "  model.add(Conv2D(128, (3, 3), activation='relu'))\n",
        "  model.add(BatchNormalization())\n",
        "  model.add(MaxPooling2D(pool_size=(2, 2)))\n",
        "  # model.add(Conv2D(256, (3, 3), activation='relu'))\n",
        "  # model.add(MaxPooling2D(pool_size=(2, 2)))\n",
        "  # model.add(Conv2D(512, (3, 3), activation='relu'))\n",
        "  # model.add(Dropout(0.25))\n",
        "  model.add(Flatten())\n",
        "  model.add(Dense(512, activation='relu'))\n",
        "  # model.add(Dropout(0.5))\n",
        "  model.add(Dense(256, activation='relu'))\n",
        "  # model.add(Dropout(0.25))\n",
        "  model.add(Dense(20, activation='relu'))\n",
        "  # model.add(Dropout(0.5))\n",
        "  # model.add(Dense(1))\n",
        "\n",
        "  return model\n",
        "# model.compile(loss=keras.losses.mean_absolute_error,\n",
        "#               optimizer=keras.optimizers.Adam(),\n",
        "#               metrics=['mae'])\n",
        "\n",
        "# # model.compile(loss=\"mean_absolute_percentage_error\", optimizer=opt)\n",
        "# # train the model\n",
        "# print(\"[INFO] training model...\")\n",
        "# # model.fit(trainImagesX, trainY, validation_data=(testImagesX, testY),\n",
        "# # \tepochs=20, batch_size=8)\n",
        "# # preds = model.predict(testImagesX)\n",
        "\n",
        "# model.fit(images, df[target_variable],\n",
        "# \tepochs=20, batch_size=8,verbose=0)\n",
        "# preds = model.predict(images)\n"
      ],
      "execution_count": 0,
      "outputs": []
    },
    {
      "cell_type": "code",
      "metadata": {
        "id": "BXomYgD2UfBq",
        "colab_type": "code",
        "outputId": "d0bd1593-d92e-41cb-ede0-cacdfa40d5c0",
        "colab": {
          "base_uri": "https://localhost:8080/",
          "height": 34
        }
      },
      "source": [
        "import re\n",
        "import nltk\n",
        "import keras\n",
        "nltk.download('stopwords')\n",
        "from nltk.corpus import stopwords \n",
        "from keras.preprocessing.text import Tokenizer\n",
        "from keras.preprocessing.text import one_hot\n",
        "from keras.preprocessing.sequence import pad_sequences\n",
        "from keras.models import Sequential\n",
        "from keras.layers import Dense\n",
        "from keras.layers import Flatten\n",
        "from keras.layers.embeddings import Embedding\n",
        "\n",
        "stop_words = nltk.corpus.stopwords.words('english')\n",
        "\n",
        "def clean_text(x):\n",
        "    pattern = r'[^a-zA-z0-9\\s]'\n",
        "    text = re.sub(pattern, '', x)\n",
        "    return x\n",
        "def text_lowercase(text): \n",
        "    return text.lower() \n",
        "\n",
        "def clean_numbers(x):\n",
        "    if bool(re.search(r'\\d', x)):\n",
        "        x = re.sub('[0-9]{5,}', '#####', x)\n",
        "        x = re.sub('[0-9]{4}', '####', x)\n",
        "        x = re.sub('[0-9]{3}', '###', x)\n",
        "        x = re.sub('[0-9]{2}', '##', x)\n",
        "    return x\n",
        "\n",
        "def remove_punctuation(text): \n",
        "    translator = str.maketrans('', '', string.punctuation) \n",
        "    return text.translate(translator) \n",
        "\n",
        "def remove_whitespace(text): \n",
        "    return  \" \".join(text.split()) \n",
        "\n",
        "from nltk.corpus import stopwords \n",
        "from nltk.tokenize import word_tokenize \n",
        "  \n",
        "# remove stopwords function \n",
        "def remove_stopwords(text): \n",
        "    stop_words = set(stopwords.words(\"english\")) \n",
        "    word_tokens = word_tokenize(text) \n",
        "    filtered_text = [word for word in word_tokens if word not in stop_words] \n",
        "    return filtered_text \n",
        "\n",
        "docs = df['Title'].str.lower().values\n",
        "docs = [clean_text(text) for text in docs]\n",
        "docs = [remove_whitespace(text) for text in docs]\n",
        "docs = [clean_numbers(text) for text in docs]\n",
        "docs = [docs for docs in docs if docs not in stop_words]\n",
        "\n",
        "\n",
        "word_list = [i.split() for i in docs]\n",
        "\n",
        "\n",
        "# create the tokenizer\n",
        "t = Tokenizer()\n",
        "# fit the tokenizer on the documents\n",
        "t.fit_on_texts(word_list)\n",
        "norm_corpus = word_list\n",
        "word2id = t.word_index\n",
        "word2id['PAD'] = 0\n",
        "\n",
        "vocab_size = len(t.word_index) + 1\n",
        "\n",
        "# encoded_docs = [one_hot(d, vocab_size) for d in docs]\n",
        "encoded_docs = t.texts_to_sequences(docs)\n",
        "doc_length = [len(item) for item in encoded_docs]\n",
        "# plt.hist(doc_length,100)\n",
        "\n",
        "type(encoded_docs)\n",
        " # pad documents to a max length of 4 words\n",
        "# max_length = np.int(np.ceil(np.mean(doc_length)))\n",
        "max_length = np.int(np.ceil(np.max(doc_length)))\n",
        "\n",
        "padded_docs = pad_sequences(encoded_docs, maxlen=max_length, padding='post')\n",
        "print(padded_docs)\n",
        "len(padded_docs)\n",
        "padded_docs.shape\n"
      ],
      "execution_count": 0,
      "outputs": [
        {
          "output_type": "execute_result",
          "data": {
            "text/plain": [
              "(267, 30)"
            ]
          },
          "metadata": {
            "tags": []
          },
          "execution_count": 32
        }
      ]
    },
    {
      "cell_type": "code",
      "metadata": {
        "id": "lAZSQ8VTVCGu",
        "colab_type": "code",
        "colab": {}
      },
      "source": [
        "def create_text_model(vocab_size,embedding_length,max_length):\n",
        "  # define the model\n",
        "  model = Sequential()\n",
        "  model.add(Embedding(vocab_size, embedding_length, input_length=max_length))\n",
        "  model.add(Flatten())\n",
        "  model.add(Dense(40, activation='relu'))\n",
        "  model.add(Dense(10, activation='relu'))\n",
        "  # model.add(Dense(1, activation='linear'))\n",
        "\n",
        "  return model\n"
      ],
      "execution_count": 0,
      "outputs": []
    },
    {
      "cell_type": "code",
      "metadata": {
        "id": "c8yhj6sPUfW5",
        "colab_type": "code",
        "outputId": "88d4b2bb-a757-4650-e641-96bcf18e6011",
        "colab": {
          "base_uri": "https://localhost:8080/",
          "height": 34
        }
      },
      "source": [
        "embedding_length = 4\n",
        "mlp = create_text_model(vocab_size,\n",
        "embedding_length,max_length)\n",
        "cnn = create_cnn()\n",
        "\n",
        "# create the input to our final set of layers as the *output* of both\n",
        "# the MLP and CNN\n",
        "combinedInput = concatenate([mlp.output, cnn.output])\n",
        "\n",
        "# our final FC layer head will have two dense layers, the final one\n",
        "# being our regrxession head\n",
        "x = Dense(4, activation=\"relu\")(combinedInput)\n",
        "x = Dense(1, activation=\"linear\")(x)\n",
        "\n",
        "# our final model will accept categorical/numerical data on the MLP\n",
        "# input and images on the CNN input, outputting a single value (the\n",
        "# predicted price of the house)\n",
        "model = Model(inputs=[mlp.input, cnn.input], outputs=x)\n",
        "\n",
        "\n",
        "model.compile(loss=keras.losses.mean_absolute_error,\n",
        "              optimizer=keras.optimizers.Adam(),\n",
        "              metrics=['mae'])\n",
        "\n",
        "\n",
        "x = Dense(4, activation=\"relu\")(cnn.output)\n",
        "x = Dense(1, activation=\"linear\")(x)\n",
        "\n",
        "model_cnn = Model(inputs=[cnn.input], outputs=x)\n",
        "\n",
        "\n",
        "model_cnn.compile(loss=keras.losses.mean_absolute_error,\n",
        "              optimizer=keras.optimizers.Adam(),\n",
        "              metrics=['mae'])\n",
        "\n",
        "\n",
        "\n",
        "x = Dense(4, activation=\"relu\")(mlp.output)\n",
        "x = Dense(1, activation=\"linear\")(x)\n",
        "\n",
        "model_text = Model(inputs=[mlp.input], outputs=x)\n",
        "\n",
        "\n",
        "model_text.compile(loss=keras.losses.mean_absolute_error,\n",
        "              optimizer=keras.optimizers.Adam(),\n",
        "              metrics=['mae'])\n",
        "\n",
        "# model.compile(loss=\"mean_absolute_percentage_error\", optimizer=opt)\n",
        "# train the model\n",
        "print(\"[INFO] training model...\")\n",
        "# model.fit(trainImagesX, trainY, validation_data=(testImagesX, testY),\n",
        "# \tepochs=20, batch_size=8)\n",
        "# preds = model.predict(testImagesX)\n",
        "\n",
        "# model.fit(images, df[target_variable],\n",
        "# \tepochs=20, batch_size=8,verbose=0)\n",
        "# preds = model.predict([images,)\n"
      ],
      "execution_count": 0,
      "outputs": [
        {
          "output_type": "stream",
          "text": [
            "[INFO] training model...\n"
          ],
          "name": "stdout"
        }
      ]
    },
    {
      "cell_type": "code",
      "metadata": {
        "id": "hmooJZl59n2A",
        "colab_type": "code",
        "colab": {}
      },
      "source": [
        "split = train_test_split(df, padded_docs,images, test_size=0.1, random_state=42)\n",
        "(df_train, df_test, padded_docs_train, padded_docs_test,images_train,images_test) = split\n"
      ],
      "execution_count": 0,
      "outputs": []
    },
    {
      "cell_type": "code",
      "metadata": {
        "id": "sSYofW1oafL3",
        "colab_type": "code",
        "outputId": "01b1e7b2-aa82-4f9d-c628-b2851911d245",
        "colab": {
          "base_uri": "https://localhost:8080/",
          "height": 443
        }
      },
      "source": [
        "model.fit([padded_docs,images], df[target_variable].values,epochs=20, batch_size=8)\n",
        "model.fit([padded_docs_train,images_train], df_train[target_variable].values,epochs=20, batch_size=8,\n",
        "          validation_data=([padded_docs_test,images_test],df_test[target_variable].values))"
      ],
      "execution_count": 0,
      "outputs": [
        {
          "output_type": "stream",
          "text": [
            "Epoch 1/20\n",
            "267/267 [==============================] - 15s 55ms/step - loss: 2856.6558 - mae: 2856.6560\n",
            "Epoch 2/20\n",
            "267/267 [==============================] - 15s 56ms/step - loss: 2856.6217 - mae: 2856.6216\n",
            "Epoch 3/20\n",
            "136/267 [==============>...............] - ETA: 7s - loss: 2675.7601 - mae: 2675.7598"
          ],
          "name": "stdout"
        },
        {
          "output_type": "error",
          "ename": "KeyboardInterrupt",
          "evalue": "ignored",
          "traceback": [
            "\u001b[0;31m---------------------------------------------------------------------------\u001b[0m",
            "\u001b[0;31mKeyboardInterrupt\u001b[0m                         Traceback (most recent call last)",
            "\u001b[0;32m<ipython-input-44-c4dd660406ea>\u001b[0m in \u001b[0;36m<module>\u001b[0;34m()\u001b[0m\n\u001b[0;32m----> 1\u001b[0;31m \u001b[0mmodel\u001b[0m\u001b[0;34m.\u001b[0m\u001b[0mfit\u001b[0m\u001b[0;34m(\u001b[0m\u001b[0;34m[\u001b[0m\u001b[0mpadded_docs\u001b[0m\u001b[0;34m,\u001b[0m\u001b[0mimages\u001b[0m\u001b[0;34m]\u001b[0m\u001b[0;34m,\u001b[0m \u001b[0mdf\u001b[0m\u001b[0;34m[\u001b[0m\u001b[0mtarget_variable\u001b[0m\u001b[0;34m]\u001b[0m\u001b[0;34m.\u001b[0m\u001b[0mvalues\u001b[0m\u001b[0;34m,\u001b[0m\u001b[0mepochs\u001b[0m\u001b[0;34m=\u001b[0m\u001b[0;36m20\u001b[0m\u001b[0;34m,\u001b[0m \u001b[0mbatch_size\u001b[0m\u001b[0;34m=\u001b[0m\u001b[0;36m8\u001b[0m\u001b[0;34m)\u001b[0m\u001b[0;34m\u001b[0m\u001b[0;34m\u001b[0m\u001b[0m\n\u001b[0m\u001b[1;32m      2\u001b[0m model.fit([padded_docs_train,images_train], df_train[target_variable].values,epochs=20, batch_size=32,\n\u001b[1;32m      3\u001b[0m           validation_data=([padded_docs_test,images_test],df_test[target_variable].values))\n",
            "\u001b[0;32m/usr/local/lib/python3.6/dist-packages/keras/engine/training.py\u001b[0m in \u001b[0;36mfit\u001b[0;34m(self, x, y, batch_size, epochs, verbose, callbacks, validation_split, validation_data, shuffle, class_weight, sample_weight, initial_epoch, steps_per_epoch, validation_steps, validation_freq, max_queue_size, workers, use_multiprocessing, **kwargs)\u001b[0m\n\u001b[1;32m   1237\u001b[0m                                         \u001b[0msteps_per_epoch\u001b[0m\u001b[0;34m=\u001b[0m\u001b[0msteps_per_epoch\u001b[0m\u001b[0;34m,\u001b[0m\u001b[0;34m\u001b[0m\u001b[0;34m\u001b[0m\u001b[0m\n\u001b[1;32m   1238\u001b[0m                                         \u001b[0mvalidation_steps\u001b[0m\u001b[0;34m=\u001b[0m\u001b[0mvalidation_steps\u001b[0m\u001b[0;34m,\u001b[0m\u001b[0;34m\u001b[0m\u001b[0;34m\u001b[0m\u001b[0m\n\u001b[0;32m-> 1239\u001b[0;31m                                         validation_freq=validation_freq)\n\u001b[0m\u001b[1;32m   1240\u001b[0m \u001b[0;34m\u001b[0m\u001b[0m\n\u001b[1;32m   1241\u001b[0m     def evaluate(self,\n",
            "\u001b[0;32m/usr/local/lib/python3.6/dist-packages/keras/engine/training_arrays.py\u001b[0m in \u001b[0;36mfit_loop\u001b[0;34m(model, fit_function, fit_inputs, out_labels, batch_size, epochs, verbose, callbacks, val_function, val_inputs, shuffle, initial_epoch, steps_per_epoch, validation_steps, validation_freq)\u001b[0m\n\u001b[1;32m    194\u001b[0m                     \u001b[0mins_batch\u001b[0m\u001b[0;34m[\u001b[0m\u001b[0mi\u001b[0m\u001b[0;34m]\u001b[0m \u001b[0;34m=\u001b[0m \u001b[0mins_batch\u001b[0m\u001b[0;34m[\u001b[0m\u001b[0mi\u001b[0m\u001b[0;34m]\u001b[0m\u001b[0;34m.\u001b[0m\u001b[0mtoarray\u001b[0m\u001b[0;34m(\u001b[0m\u001b[0;34m)\u001b[0m\u001b[0;34m\u001b[0m\u001b[0;34m\u001b[0m\u001b[0m\n\u001b[1;32m    195\u001b[0m \u001b[0;34m\u001b[0m\u001b[0m\n\u001b[0;32m--> 196\u001b[0;31m                 \u001b[0mouts\u001b[0m \u001b[0;34m=\u001b[0m \u001b[0mfit_function\u001b[0m\u001b[0;34m(\u001b[0m\u001b[0mins_batch\u001b[0m\u001b[0;34m)\u001b[0m\u001b[0;34m\u001b[0m\u001b[0;34m\u001b[0m\u001b[0m\n\u001b[0m\u001b[1;32m    197\u001b[0m                 \u001b[0mouts\u001b[0m \u001b[0;34m=\u001b[0m \u001b[0mto_list\u001b[0m\u001b[0;34m(\u001b[0m\u001b[0mouts\u001b[0m\u001b[0;34m)\u001b[0m\u001b[0;34m\u001b[0m\u001b[0;34m\u001b[0m\u001b[0m\n\u001b[1;32m    198\u001b[0m                 \u001b[0;32mfor\u001b[0m \u001b[0ml\u001b[0m\u001b[0;34m,\u001b[0m \u001b[0mo\u001b[0m \u001b[0;32min\u001b[0m \u001b[0mzip\u001b[0m\u001b[0;34m(\u001b[0m\u001b[0mout_labels\u001b[0m\u001b[0;34m,\u001b[0m \u001b[0mouts\u001b[0m\u001b[0;34m)\u001b[0m\u001b[0;34m:\u001b[0m\u001b[0;34m\u001b[0m\u001b[0;34m\u001b[0m\u001b[0m\n",
            "\u001b[0;32m/usr/local/lib/python3.6/dist-packages/tensorflow/python/keras/backend.py\u001b[0m in \u001b[0;36m__call__\u001b[0;34m(self, inputs)\u001b[0m\n\u001b[1;32m   3790\u001b[0m         \u001b[0mvalue\u001b[0m \u001b[0;34m=\u001b[0m \u001b[0mmath_ops\u001b[0m\u001b[0;34m.\u001b[0m\u001b[0mcast\u001b[0m\u001b[0;34m(\u001b[0m\u001b[0mvalue\u001b[0m\u001b[0;34m,\u001b[0m \u001b[0mtensor\u001b[0m\u001b[0;34m.\u001b[0m\u001b[0mdtype\u001b[0m\u001b[0;34m)\u001b[0m\u001b[0;34m\u001b[0m\u001b[0;34m\u001b[0m\u001b[0m\n\u001b[1;32m   3791\u001b[0m       \u001b[0mconverted_inputs\u001b[0m\u001b[0;34m.\u001b[0m\u001b[0mappend\u001b[0m\u001b[0;34m(\u001b[0m\u001b[0mvalue\u001b[0m\u001b[0;34m)\u001b[0m\u001b[0;34m\u001b[0m\u001b[0;34m\u001b[0m\u001b[0m\n\u001b[0;32m-> 3792\u001b[0;31m     \u001b[0moutputs\u001b[0m \u001b[0;34m=\u001b[0m \u001b[0mself\u001b[0m\u001b[0;34m.\u001b[0m\u001b[0m_graph_fn\u001b[0m\u001b[0;34m(\u001b[0m\u001b[0;34m*\u001b[0m\u001b[0mconverted_inputs\u001b[0m\u001b[0;34m)\u001b[0m\u001b[0;34m\u001b[0m\u001b[0;34m\u001b[0m\u001b[0m\n\u001b[0m\u001b[1;32m   3793\u001b[0m \u001b[0;34m\u001b[0m\u001b[0m\n\u001b[1;32m   3794\u001b[0m     \u001b[0;31m# EagerTensor.numpy() will often make a copy to ensure memory safety.\u001b[0m\u001b[0;34m\u001b[0m\u001b[0;34m\u001b[0m\u001b[0;34m\u001b[0m\u001b[0m\n",
            "\u001b[0;32m/usr/local/lib/python3.6/dist-packages/tensorflow/python/eager/function.py\u001b[0m in \u001b[0;36m__call__\u001b[0;34m(self, *args, **kwargs)\u001b[0m\n\u001b[1;32m   1603\u001b[0m       \u001b[0mTypeError\u001b[0m\u001b[0;34m:\u001b[0m \u001b[0mFor\u001b[0m \u001b[0minvalid\u001b[0m \u001b[0mpositional\u001b[0m\u001b[0;34m/\u001b[0m\u001b[0mkeyword\u001b[0m \u001b[0margument\u001b[0m \u001b[0mcombinations\u001b[0m\u001b[0;34m.\u001b[0m\u001b[0;34m\u001b[0m\u001b[0;34m\u001b[0m\u001b[0m\n\u001b[1;32m   1604\u001b[0m     \"\"\"\n\u001b[0;32m-> 1605\u001b[0;31m     \u001b[0;32mreturn\u001b[0m \u001b[0mself\u001b[0m\u001b[0;34m.\u001b[0m\u001b[0m_call_impl\u001b[0m\u001b[0;34m(\u001b[0m\u001b[0margs\u001b[0m\u001b[0;34m,\u001b[0m \u001b[0mkwargs\u001b[0m\u001b[0;34m)\u001b[0m\u001b[0;34m\u001b[0m\u001b[0;34m\u001b[0m\u001b[0m\n\u001b[0m\u001b[1;32m   1606\u001b[0m \u001b[0;34m\u001b[0m\u001b[0m\n\u001b[1;32m   1607\u001b[0m   \u001b[0;32mdef\u001b[0m \u001b[0m_call_impl\u001b[0m\u001b[0;34m(\u001b[0m\u001b[0mself\u001b[0m\u001b[0;34m,\u001b[0m \u001b[0margs\u001b[0m\u001b[0;34m,\u001b[0m \u001b[0mkwargs\u001b[0m\u001b[0;34m,\u001b[0m \u001b[0mcancellation_manager\u001b[0m\u001b[0;34m=\u001b[0m\u001b[0;32mNone\u001b[0m\u001b[0;34m)\u001b[0m\u001b[0;34m:\u001b[0m\u001b[0;34m\u001b[0m\u001b[0;34m\u001b[0m\u001b[0m\n",
            "\u001b[0;32m/usr/local/lib/python3.6/dist-packages/tensorflow/python/eager/function.py\u001b[0m in \u001b[0;36m_call_impl\u001b[0;34m(self, args, kwargs, cancellation_manager)\u001b[0m\n\u001b[1;32m   1643\u001b[0m       raise TypeError(\"Keyword arguments {} unknown. Expected {}.\".format(\n\u001b[1;32m   1644\u001b[0m           list(kwargs.keys()), list(self._arg_keywords)))\n\u001b[0;32m-> 1645\u001b[0;31m     \u001b[0;32mreturn\u001b[0m \u001b[0mself\u001b[0m\u001b[0;34m.\u001b[0m\u001b[0m_call_flat\u001b[0m\u001b[0;34m(\u001b[0m\u001b[0margs\u001b[0m\u001b[0;34m,\u001b[0m \u001b[0mself\u001b[0m\u001b[0;34m.\u001b[0m\u001b[0mcaptured_inputs\u001b[0m\u001b[0;34m,\u001b[0m \u001b[0mcancellation_manager\u001b[0m\u001b[0;34m)\u001b[0m\u001b[0;34m\u001b[0m\u001b[0;34m\u001b[0m\u001b[0m\n\u001b[0m\u001b[1;32m   1646\u001b[0m \u001b[0;34m\u001b[0m\u001b[0m\n\u001b[1;32m   1647\u001b[0m   \u001b[0;32mdef\u001b[0m \u001b[0m_filtered_call\u001b[0m\u001b[0;34m(\u001b[0m\u001b[0mself\u001b[0m\u001b[0;34m,\u001b[0m \u001b[0margs\u001b[0m\u001b[0;34m,\u001b[0m \u001b[0mkwargs\u001b[0m\u001b[0;34m)\u001b[0m\u001b[0;34m:\u001b[0m\u001b[0;34m\u001b[0m\u001b[0;34m\u001b[0m\u001b[0m\n",
            "\u001b[0;32m/usr/local/lib/python3.6/dist-packages/tensorflow/python/eager/function.py\u001b[0m in \u001b[0;36m_call_flat\u001b[0;34m(self, args, captured_inputs, cancellation_manager)\u001b[0m\n\u001b[1;32m   1744\u001b[0m       \u001b[0;31m# No tape is watching; skip to running the function.\u001b[0m\u001b[0;34m\u001b[0m\u001b[0;34m\u001b[0m\u001b[0;34m\u001b[0m\u001b[0m\n\u001b[1;32m   1745\u001b[0m       return self._build_call_outputs(self._inference_function.call(\n\u001b[0;32m-> 1746\u001b[0;31m           ctx, args, cancellation_manager=cancellation_manager))\n\u001b[0m\u001b[1;32m   1747\u001b[0m     forward_backward = self._select_forward_and_backward_functions(\n\u001b[1;32m   1748\u001b[0m         \u001b[0margs\u001b[0m\u001b[0;34m,\u001b[0m\u001b[0;34m\u001b[0m\u001b[0;34m\u001b[0m\u001b[0m\n",
            "\u001b[0;32m/usr/local/lib/python3.6/dist-packages/tensorflow/python/eager/function.py\u001b[0m in \u001b[0;36mcall\u001b[0;34m(self, ctx, args, cancellation_manager)\u001b[0m\n\u001b[1;32m    596\u001b[0m               \u001b[0minputs\u001b[0m\u001b[0;34m=\u001b[0m\u001b[0margs\u001b[0m\u001b[0;34m,\u001b[0m\u001b[0;34m\u001b[0m\u001b[0;34m\u001b[0m\u001b[0m\n\u001b[1;32m    597\u001b[0m               \u001b[0mattrs\u001b[0m\u001b[0;34m=\u001b[0m\u001b[0mattrs\u001b[0m\u001b[0;34m,\u001b[0m\u001b[0;34m\u001b[0m\u001b[0;34m\u001b[0m\u001b[0m\n\u001b[0;32m--> 598\u001b[0;31m               ctx=ctx)\n\u001b[0m\u001b[1;32m    599\u001b[0m         \u001b[0;32melse\u001b[0m\u001b[0;34m:\u001b[0m\u001b[0;34m\u001b[0m\u001b[0;34m\u001b[0m\u001b[0m\n\u001b[1;32m    600\u001b[0m           outputs = execute.execute_with_cancellation(\n",
            "\u001b[0;32m/usr/local/lib/python3.6/dist-packages/tensorflow/python/eager/execute.py\u001b[0m in \u001b[0;36mquick_execute\u001b[0;34m(op_name, num_outputs, inputs, attrs, ctx, name)\u001b[0m\n\u001b[1;32m     58\u001b[0m     \u001b[0mctx\u001b[0m\u001b[0;34m.\u001b[0m\u001b[0mensure_initialized\u001b[0m\u001b[0;34m(\u001b[0m\u001b[0;34m)\u001b[0m\u001b[0;34m\u001b[0m\u001b[0;34m\u001b[0m\u001b[0m\n\u001b[1;32m     59\u001b[0m     tensors = pywrap_tfe.TFE_Py_Execute(ctx._handle, device_name, op_name,\n\u001b[0;32m---> 60\u001b[0;31m                                         inputs, attrs, num_outputs)\n\u001b[0m\u001b[1;32m     61\u001b[0m   \u001b[0;32mexcept\u001b[0m \u001b[0mcore\u001b[0m\u001b[0;34m.\u001b[0m\u001b[0m_NotOkStatusException\u001b[0m \u001b[0;32mas\u001b[0m \u001b[0me\u001b[0m\u001b[0;34m:\u001b[0m\u001b[0;34m\u001b[0m\u001b[0;34m\u001b[0m\u001b[0m\n\u001b[1;32m     62\u001b[0m     \u001b[0;32mif\u001b[0m \u001b[0mname\u001b[0m \u001b[0;32mis\u001b[0m \u001b[0;32mnot\u001b[0m \u001b[0;32mNone\u001b[0m\u001b[0;34m:\u001b[0m\u001b[0;34m\u001b[0m\u001b[0;34m\u001b[0m\u001b[0m\n",
            "\u001b[0;31mKeyboardInterrupt\u001b[0m: "
          ]
        }
      ]
    },
    {
      "cell_type": "code",
      "metadata": {
        "id": "q-WY3B4DVDrl",
        "colab_type": "code",
        "outputId": "2f4bfa31-b6e0-478a-a0f9-7d0afeb6b22a",
        "colab": {
          "base_uri": "https://localhost:8080/",
          "height": 714
        }
      },
      "source": [
        "model_cnn.fit([images], df[target_variable].values,epochs=20, batch_size=8)"
      ],
      "execution_count": 0,
      "outputs": [
        {
          "output_type": "stream",
          "text": [
            "Epoch 1/20\n",
            "266/266 [==============================] - 16s 59ms/step - loss: 692.8138 - mae: 692.8137\n",
            "Epoch 2/20\n",
            "266/266 [==============================] - 16s 59ms/step - loss: 585.2179 - mae: 585.2179\n",
            "Epoch 3/20\n",
            "266/266 [==============================] - 16s 59ms/step - loss: 605.0182 - mae: 605.0182\n",
            "Epoch 4/20\n",
            "266/266 [==============================] - 16s 59ms/step - loss: 522.2416 - mae: 522.2417\n",
            "Epoch 5/20\n",
            "266/266 [==============================] - 16s 59ms/step - loss: 579.7874 - mae: 579.7874\n",
            "Epoch 6/20\n",
            "266/266 [==============================] - 16s 59ms/step - loss: 510.6666 - mae: 510.6665\n",
            "Epoch 7/20\n",
            "266/266 [==============================] - 16s 59ms/step - loss: 552.1242 - mae: 552.1241\n",
            "Epoch 8/20\n",
            "266/266 [==============================] - 16s 59ms/step - loss: 567.9968 - mae: 567.9968\n",
            "Epoch 9/20\n",
            "266/266 [==============================] - 16s 59ms/step - loss: 555.8028 - mae: 555.8028\n",
            "Epoch 10/20\n",
            "266/266 [==============================] - 16s 59ms/step - loss: 523.6885 - mae: 523.6885\n",
            "Epoch 11/20\n",
            "266/266 [==============================] - 16s 59ms/step - loss: 569.9004 - mae: 569.9006\n",
            "Epoch 12/20\n",
            "266/266 [==============================] - 16s 60ms/step - loss: 548.3894 - mae: 548.3895\n",
            "Epoch 13/20\n",
            "266/266 [==============================] - 16s 60ms/step - loss: 590.9717 - mae: 590.9716\n",
            "Epoch 14/20\n",
            "266/266 [==============================] - 19s 72ms/step - loss: 497.1310 - mae: 497.1310\n",
            "Epoch 15/20\n",
            "266/266 [==============================] - 16s 59ms/step - loss: 542.3504 - mae: 542.3504\n",
            "Epoch 16/20\n",
            "266/266 [==============================] - 16s 60ms/step - loss: 501.9983 - mae: 501.9984\n",
            "Epoch 17/20\n",
            "266/266 [==============================] - 16s 59ms/step - loss: 475.5414 - mae: 475.5414\n",
            "Epoch 18/20\n",
            "266/266 [==============================] - 16s 59ms/step - loss: 488.2757 - mae: 488.2756\n",
            "Epoch 19/20\n",
            "266/266 [==============================] - 16s 59ms/step - loss: 434.9167 - mae: 434.9167\n",
            "Epoch 20/20\n",
            "266/266 [==============================] - 16s 59ms/step - loss: 504.0643 - mae: 504.0643\n"
          ],
          "name": "stdout"
        },
        {
          "output_type": "execute_result",
          "data": {
            "text/plain": [
              "<keras.callbacks.callbacks.History at 0x7f6c07dbaba8>"
            ]
          },
          "metadata": {
            "tags": []
          },
          "execution_count": 15
        }
      ]
    },
    {
      "cell_type": "code",
      "metadata": {
        "id": "rM2PrFz5aqn1",
        "colab_type": "code",
        "outputId": "1f741f58-049c-4fd1-9566-157cd168bf39",
        "colab": {
          "base_uri": "https://localhost:8080/",
          "height": 1000
        }
      },
      "source": [
        "model_text.fit([padded_docs], df[target_variable].values,epochs=100, batch_size=8)"
      ],
      "execution_count": 0,
      "outputs": [
        {
          "output_type": "stream",
          "text": [
            "Epoch 1/100\n",
            "266/266 [==============================] - 0s 225us/step - loss: 165.9018 - mae: 165.9018\n",
            "Epoch 2/100\n",
            "266/266 [==============================] - 0s 156us/step - loss: 168.0840 - mae: 168.0840\n",
            "Epoch 3/100\n",
            "266/266 [==============================] - 0s 156us/step - loss: 163.9233 - mae: 163.9233\n",
            "Epoch 4/100\n",
            "266/266 [==============================] - 0s 165us/step - loss: 163.3182 - mae: 163.3182\n",
            "Epoch 5/100\n",
            "266/266 [==============================] - 0s 157us/step - loss: 157.4690 - mae: 157.4690\n",
            "Epoch 6/100\n",
            "266/266 [==============================] - 0s 161us/step - loss: 157.3687 - mae: 157.3687\n",
            "Epoch 7/100\n",
            "266/266 [==============================] - 0s 155us/step - loss: 153.8234 - mae: 153.8233\n",
            "Epoch 8/100\n",
            "266/266 [==============================] - 0s 161us/step - loss: 156.4008 - mae: 156.4008\n",
            "Epoch 9/100\n",
            "266/266 [==============================] - 0s 168us/step - loss: 157.8293 - mae: 157.8292\n",
            "Epoch 10/100\n",
            "266/266 [==============================] - 0s 156us/step - loss: 155.8266 - mae: 155.8266\n",
            "Epoch 11/100\n",
            "266/266 [==============================] - 0s 159us/step - loss: 150.5439 - mae: 150.5439\n",
            "Epoch 12/100\n",
            "266/266 [==============================] - 0s 163us/step - loss: 154.6958 - mae: 154.6959\n",
            "Epoch 13/100\n",
            "266/266 [==============================] - 0s 158us/step - loss: 154.4633 - mae: 154.4633\n",
            "Epoch 14/100\n",
            "266/266 [==============================] - 0s 155us/step - loss: 153.7981 - mae: 153.7981\n",
            "Epoch 15/100\n",
            "266/266 [==============================] - 0s 157us/step - loss: 149.8613 - mae: 149.8613\n",
            "Epoch 16/100\n",
            "266/266 [==============================] - 0s 157us/step - loss: 149.6524 - mae: 149.6525\n",
            "Epoch 17/100\n",
            "266/266 [==============================] - 0s 162us/step - loss: 148.2197 - mae: 148.2197\n",
            "Epoch 18/100\n",
            "266/266 [==============================] - 0s 184us/step - loss: 153.2285 - mae: 153.2285\n",
            "Epoch 19/100\n",
            "266/266 [==============================] - 0s 170us/step - loss: 146.2357 - mae: 146.2357\n",
            "Epoch 20/100\n",
            "266/266 [==============================] - 0s 158us/step - loss: 148.3076 - mae: 148.3076\n",
            "Epoch 21/100\n",
            "266/266 [==============================] - 0s 160us/step - loss: 151.4854 - mae: 151.4854\n",
            "Epoch 22/100\n",
            "266/266 [==============================] - 0s 159us/step - loss: 149.2711 - mae: 149.2711\n",
            "Epoch 23/100\n",
            "266/266 [==============================] - 0s 189us/step - loss: 150.6452 - mae: 150.6452\n",
            "Epoch 24/100\n",
            "266/266 [==============================] - 0s 158us/step - loss: 151.7669 - mae: 151.7669\n",
            "Epoch 25/100\n",
            "266/266 [==============================] - 0s 162us/step - loss: 148.3977 - mae: 148.3977\n",
            "Epoch 26/100\n",
            "266/266 [==============================] - 0s 162us/step - loss: 145.6617 - mae: 145.6617\n",
            "Epoch 27/100\n",
            "266/266 [==============================] - 0s 151us/step - loss: 146.8594 - mae: 146.8594\n",
            "Epoch 28/100\n",
            "266/266 [==============================] - 0s 161us/step - loss: 147.1284 - mae: 147.1283\n",
            "Epoch 29/100\n",
            "266/266 [==============================] - 0s 184us/step - loss: 149.0258 - mae: 149.0258\n",
            "Epoch 30/100\n",
            "266/266 [==============================] - 0s 160us/step - loss: 146.5964 - mae: 146.5964\n",
            "Epoch 31/100\n",
            "266/266 [==============================] - 0s 158us/step - loss: 146.7650 - mae: 146.7650\n",
            "Epoch 32/100\n",
            "266/266 [==============================] - 0s 165us/step - loss: 143.4707 - mae: 143.4707\n",
            "Epoch 33/100\n",
            "266/266 [==============================] - 0s 161us/step - loss: 144.8307 - mae: 144.8307\n",
            "Epoch 34/100\n",
            "266/266 [==============================] - 0s 166us/step - loss: 144.0404 - mae: 144.0404\n",
            "Epoch 35/100\n",
            "266/266 [==============================] - 0s 163us/step - loss: 145.1581 - mae: 145.1581\n",
            "Epoch 36/100\n",
            "266/266 [==============================] - 0s 174us/step - loss: 148.7837 - mae: 148.7837\n",
            "Epoch 37/100\n",
            "266/266 [==============================] - 0s 160us/step - loss: 146.5189 - mae: 146.5189\n",
            "Epoch 38/100\n",
            "266/266 [==============================] - 0s 167us/step - loss: 142.7525 - mae: 142.7525\n",
            "Epoch 39/100\n",
            "266/266 [==============================] - 0s 164us/step - loss: 142.5744 - mae: 142.5744\n",
            "Epoch 40/100\n",
            "266/266 [==============================] - 0s 176us/step - loss: 142.4479 - mae: 142.4479\n",
            "Epoch 41/100\n",
            "266/266 [==============================] - 0s 169us/step - loss: 144.8288 - mae: 144.8288\n",
            "Epoch 42/100\n",
            "266/266 [==============================] - 0s 156us/step - loss: 143.6375 - mae: 143.6375\n",
            "Epoch 43/100\n",
            "266/266 [==============================] - 0s 161us/step - loss: 142.5093 - mae: 142.5093\n",
            "Epoch 44/100\n",
            "266/266 [==============================] - 0s 167us/step - loss: 144.7459 - mae: 144.7459\n",
            "Epoch 45/100\n",
            "266/266 [==============================] - 0s 171us/step - loss: 148.0923 - mae: 148.0923\n",
            "Epoch 46/100\n",
            "266/266 [==============================] - 0s 177us/step - loss: 140.7331 - mae: 140.7331\n",
            "Epoch 47/100\n",
            "266/266 [==============================] - 0s 175us/step - loss: 141.7328 - mae: 141.7328\n",
            "Epoch 48/100\n",
            "266/266 [==============================] - 0s 163us/step - loss: 142.1518 - mae: 142.1518\n",
            "Epoch 49/100\n",
            "266/266 [==============================] - 0s 164us/step - loss: 143.5288 - mae: 143.5288\n",
            "Epoch 50/100\n",
            "266/266 [==============================] - 0s 161us/step - loss: 140.7067 - mae: 140.7067\n",
            "Epoch 51/100\n",
            "266/266 [==============================] - 0s 160us/step - loss: 143.9374 - mae: 143.9374\n",
            "Epoch 52/100\n",
            "266/266 [==============================] - 0s 160us/step - loss: 138.3145 - mae: 138.3145\n",
            "Epoch 53/100\n",
            "266/266 [==============================] - 0s 174us/step - loss: 142.5519 - mae: 142.5520\n",
            "Epoch 54/100\n",
            "266/266 [==============================] - 0s 156us/step - loss: 139.4433 - mae: 139.4433\n",
            "Epoch 55/100\n",
            "266/266 [==============================] - 0s 164us/step - loss: 144.0838 - mae: 144.0838\n",
            "Epoch 56/100\n",
            "266/266 [==============================] - 0s 160us/step - loss: 141.2634 - mae: 141.2634\n",
            "Epoch 57/100\n",
            "266/266 [==============================] - 0s 163us/step - loss: 142.7599 - mae: 142.7599\n",
            "Epoch 58/100\n",
            "266/266 [==============================] - 0s 173us/step - loss: 139.4695 - mae: 139.4695\n",
            "Epoch 59/100\n",
            "266/266 [==============================] - 0s 215us/step - loss: 143.7402 - mae: 143.7402\n",
            "Epoch 60/100\n",
            "266/266 [==============================] - 0s 158us/step - loss: 138.9248 - mae: 138.9248\n",
            "Epoch 61/100\n",
            "266/266 [==============================] - 0s 162us/step - loss: 139.5949 - mae: 139.5949\n",
            "Epoch 62/100\n",
            "266/266 [==============================] - 0s 173us/step - loss: 137.4217 - mae: 137.4217\n",
            "Epoch 63/100\n",
            "266/266 [==============================] - 0s 171us/step - loss: 140.6602 - mae: 140.6602\n",
            "Epoch 64/100\n",
            "266/266 [==============================] - 0s 179us/step - loss: 137.5714 - mae: 137.5714\n",
            "Epoch 65/100\n",
            "266/266 [==============================] - 0s 162us/step - loss: 139.9073 - mae: 139.9073\n",
            "Epoch 66/100\n",
            "266/266 [==============================] - 0s 171us/step - loss: 136.1768 - mae: 136.1768\n",
            "Epoch 67/100\n",
            "266/266 [==============================] - 0s 188us/step - loss: 142.4574 - mae: 142.4574\n",
            "Epoch 68/100\n",
            "266/266 [==============================] - 0s 161us/step - loss: 139.6723 - mae: 139.6723\n",
            "Epoch 69/100\n",
            "266/266 [==============================] - 0s 167us/step - loss: 141.5882 - mae: 141.5882\n",
            "Epoch 70/100\n",
            "266/266 [==============================] - 0s 165us/step - loss: 137.2709 - mae: 137.2709\n",
            "Epoch 71/100\n",
            "266/266 [==============================] - 0s 156us/step - loss: 138.0028 - mae: 138.0028\n",
            "Epoch 72/100\n",
            "266/266 [==============================] - 0s 207us/step - loss: 137.7927 - mae: 137.7927\n",
            "Epoch 73/100\n",
            "266/266 [==============================] - 0s 171us/step - loss: 142.1880 - mae: 142.1880\n",
            "Epoch 74/100\n",
            "266/266 [==============================] - 0s 157us/step - loss: 137.2049 - mae: 137.2049\n",
            "Epoch 75/100\n",
            "266/266 [==============================] - 0s 163us/step - loss: 138.3782 - mae: 138.3782\n",
            "Epoch 76/100\n",
            "266/266 [==============================] - 0s 192us/step - loss: 138.5129 - mae: 138.5128\n",
            "Epoch 77/100\n",
            "266/266 [==============================] - 0s 159us/step - loss: 138.0558 - mae: 138.0558\n",
            "Epoch 78/100\n",
            "266/266 [==============================] - 0s 159us/step - loss: 140.5867 - mae: 140.5867\n",
            "Epoch 79/100\n",
            "266/266 [==============================] - 0s 163us/step - loss: 139.8467 - mae: 139.8467\n",
            "Epoch 80/100\n",
            "266/266 [==============================] - 0s 152us/step - loss: 138.2413 - mae: 138.2413\n",
            "Epoch 81/100\n",
            "266/266 [==============================] - 0s 172us/step - loss: 138.8014 - mae: 138.8014\n",
            "Epoch 82/100\n",
            "266/266 [==============================] - 0s 157us/step - loss: 139.8403 - mae: 139.8403\n",
            "Epoch 83/100\n",
            "266/266 [==============================] - 0s 159us/step - loss: 140.9776 - mae: 140.9776\n",
            "Epoch 84/100\n",
            "266/266 [==============================] - 0s 163us/step - loss: 140.2585 - mae: 140.2585\n",
            "Epoch 85/100\n",
            "266/266 [==============================] - 0s 199us/step - loss: 140.6951 - mae: 140.6951\n",
            "Epoch 86/100\n",
            "266/266 [==============================] - 0s 160us/step - loss: 139.9440 - mae: 139.9439\n",
            "Epoch 87/100\n",
            "266/266 [==============================] - 0s 158us/step - loss: 137.5927 - mae: 137.5927\n",
            "Epoch 88/100\n",
            "266/266 [==============================] - 0s 165us/step - loss: 138.5992 - mae: 138.5992\n",
            "Epoch 89/100\n",
            "266/266 [==============================] - 0s 202us/step - loss: 139.8486 - mae: 139.8486\n",
            "Epoch 90/100\n",
            "266/266 [==============================] - 0s 161us/step - loss: 137.1700 - mae: 137.1700\n",
            "Epoch 91/100\n",
            "266/266 [==============================] - 0s 159us/step - loss: 137.6716 - mae: 137.6716\n",
            "Epoch 92/100\n",
            "266/266 [==============================] - 0s 163us/step - loss: 138.1419 - mae: 138.1419\n",
            "Epoch 93/100\n",
            "266/266 [==============================] - 0s 226us/step - loss: 139.7436 - mae: 139.7436\n",
            "Epoch 94/100\n",
            "266/266 [==============================] - 0s 168us/step - loss: 137.4331 - mae: 137.4331\n",
            "Epoch 95/100\n",
            "266/266 [==============================] - 0s 170us/step - loss: 136.4379 - mae: 136.4379\n",
            "Epoch 96/100\n",
            "266/266 [==============================] - 0s 173us/step - loss: 133.1534 - mae: 133.1534\n",
            "Epoch 97/100\n",
            "266/266 [==============================] - 0s 157us/step - loss: 136.6219 - mae: 136.6219\n",
            "Epoch 98/100\n",
            "266/266 [==============================] - 0s 169us/step - loss: 136.5927 - mae: 136.5927\n",
            "Epoch 99/100\n",
            "266/266 [==============================] - 0s 161us/step - loss: 137.7502 - mae: 137.7502\n",
            "Epoch 100/100\n",
            "266/266 [==============================] - 0s 176us/step - loss: 137.1294 - mae: 137.1294\n"
          ],
          "name": "stdout"
        },
        {
          "output_type": "execute_result",
          "data": {
            "text/plain": [
              "<keras.callbacks.callbacks.History at 0x7f6c07b9d550>"
            ]
          },
          "metadata": {
            "tags": []
          },
          "execution_count": 18
        }
      ]
    },
    {
      "cell_type": "code",
      "metadata": {
        "id": "j-B-9eVKWuM8",
        "colab_type": "code",
        "colab": {}
      },
      "source": [
        "# model.save(directoryPath+'/'+'model.h5')\n",
        "# model_cnn.save(directoryPath+'/'+'model_cnn.h5')\n",
        "# model_text.save(directoryPath+'/'+'model_text.h5')\n",
        "\n",
        "model = keras.models.load_model(directoryPath+'model.h5')\n",
        "model_cnn = keras.models.load_model(directoryPath+'model_cnn.h5')\n",
        "model_text = keras.models.load_model(directoryPath+'model_text.h5')\n",
        "\n",
        "\n"
      ],
      "execution_count": 0,
      "outputs": []
    },
    {
      "cell_type": "code",
      "metadata": {
        "id": "HnNThUedVsaV",
        "colab_type": "code",
        "outputId": "af9c0cd7-24f2-4c69-bed7-ec194f50d043",
        "colab": {
          "base_uri": "https://localhost:8080/",
          "height": 809
        }
      },
      "source": [
        "preds_cnn = model_cnn.predict([images])\n",
        "preds_text = model_text.predict([padded_docs])\n",
        "preds = model.predict([padded_docs,images])\n",
        "\n",
        "plt.scatter(df[target_variable],preds_cnn.flatten())\n",
        "plt.title(\"image\")\n",
        "plt.show()\n",
        "\n",
        "plt.scatter(df[target_variable],preds_text.flatten())\n",
        "plt.title(\"text\")\n",
        "plt.show()\n",
        "\n",
        "plt.scatter(df[target_variable],preds.flatten())\n",
        "plt.title(\"image+text\")\n",
        "plt.show()\n"
      ],
      "execution_count": 0,
      "outputs": [
        {
          "output_type": "display_data",
          "data": {
            "image/png": "[encoded data removed]",
            "text/plain": [
              "<Figure size 432x288 with 1 Axes>"
            ]
          },
          "metadata": {
            "tags": [],
            "needs_background": "light"
          }
        },
        {
          "output_type": "display_data",
          "data": {
            "image/png": "[encoded data removed]",
            "text/plain": [
              "<Figure size 432x288 with 1 Axes>"
            ]
          },
          "metadata": {
            "tags": [],
            "needs_background": "light"
          }
        },
        {
          "output_type": "display_data",
          "data": {
            "image/png": "[encoded data removed]",
            "text/plain": [
              "<Figure size 432x288 with 1 Axes>"
            ]
          },
          "metadata": {
            "tags": [],
            "needs_background": "light"
          }
        }
      ]
    },
    {
      "cell_type": "code",
      "metadata": {
        "id": "I0ogRXVIbkaH",
        "colab_type": "code",
        "outputId": "71221a08-7fb5-4d34-fdc7-8c11368eac4f",
        "colab": {
          "base_uri": "https://localhost:8080/",
          "height": 252
        }
      },
      "source": [
        "from keras.applications.vgg16 import VGG16\n",
        "from matplotlib import pyplot\n",
        "# load the model\n",
        "# retrieve weights from the second hidden layer\n",
        "filters, biases = model.layers[7].get_weights()\n",
        "# normalize filter values to 0-1 so we can visualize them\n",
        "f_min, f_max = filters.min(), filters.max()\n",
        "filters = (filters - f_min) / (f_max - f_min)\n",
        "# plot first few filters\n",
        "n_filters, ix = 6, 1\n",
        "for i in range(n_filters):\n",
        "\t# get the filter\n",
        "\tf = filters[:, :, :, i]\n",
        "\t# plot each channel separately\n",
        "\tfor j in range(3):\n",
        "\t\t# specify subplot and turn of axis\n",
        "\t\tax = pyplot.subplot(n_filters, 3, ix)\n",
        "\t\tax.set_xticks([])\n",
        "\t\tax.set_yticks([])\n",
        "\t\t# plot filter channel in grayscale\n",
        "\t\tpyplot.imshow(f[:, :, j], cmap='gray')\n",
        "\t\tix += 1\n",
        "# show the figure\n",
        "pyplot.show()"
      ],
      "execution_count": 0,
      "outputs": [
        {
          "output_type": "display_data",
          "data": {
            "image/png": "[encoded data removed]",
            "text/plain": [
              "<Figure size 432x288 with 18 Axes>"
            ]
          },
          "metadata": {
            "tags": []
          }
        }
      ]
    },
    {
      "cell_type": "code",
      "metadata": {
        "id": "L_2sPdoSJI5C",
        "colab_type": "code",
        "colab": {}
      },
      "source": [
        "layer_dict = dict([(layer.name, layer) for layer in model.layers])\n",
        "from vis.utils import utils\n",
        "# !pip3 install scipy --user\n",
        "# !pip install scipy==1.1.0\n",
        "from vis.visualization import get_num_filters\n",
        "from vis.visualization import visualize_activation\n",
        "\n",
        "# The name of the layer we want to visualize\n",
        "# You can see this in the model definition.\n",
        "layer_name = 'conv2d_1'\n",
        "layer_idx = utils.find_layer_idx(model, layer_name)\n",
        "\n",
        "# Visualize all filters in this layer.\n",
        "filters = np.arange(get_num_filters(model.layers[layer_idx]))\n",
        "\n",
        "# Generate input image for each filter.\n",
        "vis_images = []\n",
        "for idx in filters:\n",
        "    img = visualize_activation(model, layer_idx, filter_indices=idx)\n",
        "    \n",
        "    # Utility to overlay text on image.\n",
        "    img = utils.draw_text(img, 'Filter {}'.format(idx))    \n",
        "    vis_images.append(img)\n",
        "\n",
        "# Generate stitched image palette with 8 cols.\n",
        "stitched = utils.stitch_images(vis_images, cols=8)    \n",
        "plt.axis('off')\n",
        "plt.imshow(stitched)\n",
        "plt.title(layer_name)\n",
        "plt.show()"
      ],
      "execution_count": 0,
      "outputs": []
    },
    {
      "cell_type": "code",
      "metadata": {
        "id": "MZfq7NsnyIb9",
        "colab_type": "code",
        "outputId": "b70e4940-c7a8-4f8f-95e8-b4435dfdb02d",
        "colab": {
          "base_uri": "https://localhost:8080/",
          "height": 543
        }
      },
      "source": [
        "# visualize image in hidden layers\n",
        "from keras import models\n",
        "\n",
        "layer_outputs = [layer.output for layer in model.layers[:11]] \n",
        "# Extracts the outputs of the top 12 layers\n",
        "activation_model = models.Model(inputs=model.input, outputs=layer_outputs) # Creates a model that will return these outputs, given the model input\n",
        "\n",
        "no = 5\n",
        "img_tensor = images[no,:,:,:]\n",
        "plt.imshow(images[no,:,:,:])\n",
        "img_tensor = np.expand_dims(img_tensor, axis=0)\n",
        "\n",
        "np.expand_dims(padded_docs[no,], axis=0).shape\n",
        "\n",
        "img_tensor.shape\n",
        "[padded_docs[no,:],img_tensor]\n",
        "activations = activation_model.predict([np.expand_dims(padded_docs[no,], axis=0),img_tensor]) \n",
        "\n",
        "first_layer_activation = activations[4]\n",
        "\n",
        "plt.matshow(first_layer_activation[0, :, :, 4], cmap='viridis')\n",
        "\n"
      ],
      "execution_count": 0,
      "outputs": [
        {
          "output_type": "execute_result",
          "data": {
            "text/plain": [
              "<matplotlib.image.AxesImage at 0x7f6c05207320>"
            ]
          },
          "metadata": {
            "tags": []
          },
          "execution_count": 34
        },
        {
          "output_type": "display_data",
          "data": {
            "image/png": "[encoded data removed]",
            "text/plain": [
              "<Figure size 432x288 with 1 Axes>"
            ]
          },
          "metadata": {
            "tags": [],
            "needs_background": "light"
          }
        },
        {
          "output_type": "display_data",
          "data": {
            "image/png": "[encoded data removed]",
            "text/plain": [
              "<Figure size 288x288 with 1 Axes>"
            ]
          },
          "metadata": {
            "tags": [],
            "needs_background": "light"
          }
        }
      ]
    },
    {
      "cell_type": "code",
      "metadata": {
        "id": "ljv9Omj8Dn4Z",
        "colab_type": "code",
        "colab": {}
      },
      "source": [
        "# !pip install keract\n",
        "from keract import get_activations, display_heatmaps\n",
        "\n",
        "\n",
        "no = 5\n",
        "# img_tensor = images[no,:,:,:]\n",
        "# # plt.imshow(images[no,:,:,:])\n",
        "# img_tensor = np.expand_dims(img_tensor, axis=0)\n",
        "\n",
        "# np.expand_dims(padded_docs[no,], axis=0).shape\n",
        "\n",
        "# img_tensor.shape\n",
        "keract_inputs = np.expand_dims(images[no,:,:,:], axis=0)\n",
        "keract_inputs = [np.expand_dims(padded_docs[no,], axis=0)]\n",
        "\n",
        "# keract_inputs = [np.expand_dims(padded_docs[no,], axis=0),np.expand_dims(images[no,:,:,:], axis=0)]\n",
        "activations = get_activations(model_cnn, keract_inputs)\n",
        "display_heatmaps(activations, keract_inputs, save=False)"
      ],
      "execution_count": 0,
      "outputs": []
    },
    {
      "cell_type": "code",
      "metadata": {
        "id": "B0yW5I1NeG1K",
        "colab_type": "code",
        "colab": {}
      },
      "source": [
        "keract_inputs = np.expand_dims(padded_docs[no,], axis=0)\n",
        "\n",
        "# keract_inputs = [np.expand_dims(padded_docs[no,], axis=0),np.expand_dims(images[no,:,:,:], axis=0)]\n",
        "activations = get_activations(model_text, keract_inputs)\n",
        "display_heatmaps(activations, keract_inputs, save=False)"
      ],
      "execution_count": 0,
      "outputs": []
    },
    {
      "cell_type": "code",
      "metadata": {
        "id": "WGM48TTce5Gg",
        "colab_type": "code",
        "colab": {}
      },
      "source": [
        "# saliency map\n",
        "# import tensorflow.compat.v1 as tf\n",
        "# from scipy.misc import imresize\n",
        "!pip install git+git://github.com/raghakot/keras-vis.git --upgrade --no-deps\n",
        "from vis.utils import utils\n",
        "# model.summary()\n",
        "from vis.visualization import visualize_saliency\n",
        "\n",
        "\n",
        "# from tensorflow.keras import backend\n",
        "# Utility to search for layer index by name. \n",
        "# Alternatively we can specify this as -1 since it corresponds to the last layer.\n",
        "layer_idx = utils.find_layer_idx(model, 'dense_2')\n",
        "\n",
        "# # Swap softmax with linear\n",
        "# model.layers[layer_idx].activation = activations.linear\n",
        "# model = utils.apply_modifications(model)\n",
        "\n",
        "\n",
        "# !pip uninstall scipy\n",
        "# !pip install scipy==1.1.0\n",
        "\n",
        "\n",
        "\n",
        "#generating saliency map with unguided backprop\n",
        "grads1 = visualize_saliency(model, layer_idx,filter_indices=None,seed_input=img_tensor)\n",
        "#plotting the unguided saliency map\n",
        "plt.imshow(grads1,cmap='jet')\n",
        "\n",
        "# #generating saliency map with guided backprop\n",
        "# grads2 =  visualize_saliency(model, layer_idx,filter_indices=None,seed_input=img_tensor,backprop_modifier='guided')\n",
        "# #plotting the saliency map as heatmap\n",
        "# plt.imshow(grads2,cmap='jet')\n",
        "\n",
        "# # # 20 is the imagenet index corresponding to `ouzel`\n",
        "# grads2 = visualize_saliency(model, layer_idx,filter_indices=None,\n",
        "#                             seed_input=img_tensor, backprop_modifier='guided')\n",
        "# # Lets overlay the heatmap onto original image.    \n",
        "# plt.imshow(grads2, cmap='jet')"
      ],
      "execution_count": 0,
      "outputs": []
    },
    {
      "cell_type": "code",
      "metadata": {
        "id": "mDss0c34_KU7",
        "colab_type": "code",
        "colab": {
          "base_uri": "https://localhost:8080/",
          "height": 51
        },
        "outputId": "e3b1a1a5-b9ed-4302-ac04-f017a9011b14"
      },
      "source": [
        "# to install the odbc driver\n",
        "nb_path = '/content/notebooks'\n",
        "os.symlink(directoryPath+'Colab Notebooks', nb_path)\n",
        "sys.path.insert(0,nb_path)\n",
        "\n",
        "! pip install pypyodbc\n",
        "!cat /etc/os-release\n",
        "!curl https://packages.microsoft.com/keys/microsoft.asc | apt-key add -\n",
        "!curl https://packages.microsoft.com/config/ubuntu/18.04/prod.list > /etc/apt/sources.list.d/mssql-release.list\n",
        "!sudo apt-get update\n",
        "!sudo ACCEPT_EULA=Y apt-get install msodbcsql17\n",
        "\n",
        "!echo 'export PATH=\"$PATH:/opt/mssql-tools/bin\"' >> ~/.bash_profile\n",
        "!echo 'export PATH=\"$PATH:/opt/mssql-tools/bin\"' >> ~/.bashrc\n",
        "!source ~/.bashrc\n",
        "# optional: for unixODBC development headers\n",
        "!sudo apt-get install unixodbc-dev\n",
        "\n"
      ],
      "execution_count": 103,
      "outputs": [
        {
          "output_type": "stream",
          "text": [
            "Requirement already satisfied: pypyodbc in /usr/local/lib/python3.6/dist-packages (1.3.4)\n",
            "Requirement already satisfied: setuptools in /usr/local/lib/python3.6/dist-packages (from pypyodbc) (46.1.3)\n"
          ],
          "name": "stdout"
        }
      ]
    },
    {
      "cell_type": "code",
      "metadata": {
        "id": "1aoA_Pr4IQeQ",
        "colab_type": "code",
        "colab": {
          "base_uri": "https://localhost:8080/",
          "height": 433
        },
        "outputId": "c922eef3-0ad1-4919-c86d-1410f08da667"
      },
      "source": [
        "import requests\n",
        "import keras\n",
        "import pathlib\n",
        "import sys\n",
        "import pypyodbc\n",
        "# !pip install pypyodbc\n",
        "import importlib\n",
        "\n",
        "directoryPath = '/content/drive/My Drive/'\n",
        "sys.path.insert(1, directoryPath)\n",
        "print(sys.path)\n",
        "import get_image_data \n",
        "import get_text_features\n",
        "\n",
        "importlib.reload(get_image_data)\n",
        "importlib.reload(get_text_features)\n",
        "\n",
        "img_path = directoryPath+'test_images/'\n",
        "pathlib.Path(img_path).mkdir(parents=True, exist_ok=True)\n",
        "\n",
        "# load models \n",
        "model = keras.models.load_model(directoryPath+'model.h5')\n",
        "model_cnn = keras.models.load_model(directoryPath+'model_cnn.h5')\n",
        "model_text = keras.models.load_model(directoryPath+'model_text.h5')\n",
        "\n",
        "# get data\n",
        "# define db connection\n",
        "server = \"5.100.248.208,1434\"\n",
        "database = \"Products\"\n",
        "username = \"Vadim\"\n",
        "password =  \"g56Gd5dss\"\n",
        "print(\"Attempting to make connection with the server\")\n",
        "\n",
        "con = pypyodbc.connect(\"DRIVER={ODBC Driver 17 for SQL Server};\"\n",
        "                          \"SERVER=\"+server+\";\"\n",
        "                          \"DATABASE=\"+database+\";\"\n",
        "                          \"UID=\"+username+\";\"\n",
        "                          \"PWD=\"+ password,\n",
        "                          autocommit=False)\n",
        "print(\"Connection successful\")\n",
        "\n",
        "c = con.cursor()\n",
        "table_name = \"ProductsGuru.ProductListings\"\n",
        "category_query = c.execute(\"SELECT Id,Image,Title FROM %s\"%table_name)\n",
        "c.close()\n",
        "data_all = pd.read_sql(\"SELECT TOP 10 Id,Image,Title FROM %s\"%table_name,con)\n",
        "\n",
        "data_all = data_all.rename(columns={\"id\": \"Id\", \"image\": \"Image\",\"title\":\"Title\"})\n",
        "\n",
        "# get image data\n",
        "data_images,id = get_image_data.get_image_data(data_all,img_path)\n",
        "\n",
        "test_data_with_images = data_all.loc[data_all['Id'].isin(id)]\n",
        "\n",
        "# process text data\n",
        "text_data = get_text_features.get_text_features(test_data_with_images)\n",
        "\n",
        "# get forecast\n",
        "preds = model.predict([text_data,data_images])\n",
        "preds_cnn = model_cnn.predict([data_images])\n",
        "preds_text = model_text.predict([text_data])\n",
        "\n",
        "test_data_with_images['forecast_CPM_image'] = preds_cnn\n",
        "test_data_with_images['forecast_CPM_text'] = preds_text\n",
        "test_data_with_images['forecast_CPM_text_image'] = preds\n",
        "\n",
        "print(test_data_with_images)\n",
        "\n",
        "text_data.shape"
      ],
      "execution_count": 99,
      "outputs": [
        {
          "output_type": "execute_result",
          "data": {
            "text/html": [
              "<div>\n",
              "<style scoped>\n",
              "    .dataframe tbody tr th:only-of-type {\n",
              "        vertical-align: middle;\n",
              "    }\n",
              "\n",
              "    .dataframe tbody tr th {\n",
              "        vertical-align: top;\n",
              "    }\n",
              "\n",
              "    .dataframe thead th {\n",
              "        text-align: right;\n",
              "    }\n",
              "</style>\n",
              "<table border=\"1\" class=\"dataframe\">\n",
              "  <thead>\n",
              "    <tr style=\"text-align: right;\">\n",
              "      <th></th>\n",
              "      <th>Id</th>\n",
              "      <th>Image</th>\n",
              "      <th>Title</th>\n",
              "      <th>forecast_CPM_image</th>\n",
              "      <th>forecast_CPM_text</th>\n",
              "      <th>forecast_CPM_text_image</th>\n",
              "    </tr>\n",
              "  </thead>\n",
              "  <tbody>\n",
              "    <tr>\n",
              "      <th>0</th>\n",
              "      <td>2929970</td>\n",
              "      <td>//ae01.alicdn.com/kf/H4df0692ee8ae4fdab09b58b4...</td>\n",
              "      <td>Nappy-Bags Fashion Maternity-Mummy Handbag Bab...</td>\n",
              "      <td>1782.039673</td>\n",
              "      <td>2077.747314</td>\n",
              "      <td>1710.763794</td>\n",
              "    </tr>\n",
              "    <tr>\n",
              "      <th>1</th>\n",
              "      <td>2793923</td>\n",
              "      <td>https://i.ebayimg.com/images/g/DBoAAOSw93xdq~I...</td>\n",
              "      <td>Men High-Top Basketball Sports Shoes Kids Boy ...</td>\n",
              "      <td>967.039795</td>\n",
              "      <td>2867.192139</td>\n",
              "      <td>1048.000610</td>\n",
              "    </tr>\n",
              "    <tr>\n",
              "      <th>2</th>\n",
              "      <td>1221713</td>\n",
              "      <td>https://i.ebayimg.com/images/g/VUwAAOSwO5Vd-7G...</td>\n",
              "      <td>Spectra Baby USA Breast Pump Duckbill Valves</td>\n",
              "      <td>1458.767700</td>\n",
              "      <td>3858.292236</td>\n",
              "      <td>1671.419434</td>\n",
              "    </tr>\n",
              "    <tr>\n",
              "      <th>3</th>\n",
              "      <td>3395087</td>\n",
              "      <td>//ae01.alicdn.com/kf/HTB1sQLlc6fguuRjSszcq6zb7...</td>\n",
              "      <td>Baby-Socks Children's Newborns 1pairs for Boy ...</td>\n",
              "      <td>103.771759</td>\n",
              "      <td>1890.463867</td>\n",
              "      <td>205.346603</td>\n",
              "    </tr>\n",
              "    <tr>\n",
              "      <th>5</th>\n",
              "      <td>2370688</td>\n",
              "      <td>//ae01.alicdn.com/kf/HTB1r9aDvuuSBuNjy1Xcq6AYj...</td>\n",
              "      <td>Fridge Magnet Wooden Baby 10-Number Cute Educa...</td>\n",
              "      <td>1121.058472</td>\n",
              "      <td>628.216309</td>\n",
              "      <td>936.784485</td>\n",
              "    </tr>\n",
              "    <tr>\n",
              "      <th>6</th>\n",
              "      <td>2455061</td>\n",
              "      <td>//ae01.alicdn.com/kf/H40b36041cb0a40528b9c5c91...</td>\n",
              "      <td>Kids Toys Clock Teaching-Aids Montessori Manua...</td>\n",
              "      <td>2806.436523</td>\n",
              "      <td>5094.065430</td>\n",
              "      <td>2832.312744</td>\n",
              "    </tr>\n",
              "    <tr>\n",
              "      <th>7</th>\n",
              "      <td>2412673</td>\n",
              "      <td>//ae01.alicdn.com/kf/HTB163ezmBmWBuNkSndVq6AsA...</td>\n",
              "      <td>Baby Shoes Flowers First-Walker Spring Newborn...</td>\n",
              "      <td>540.723572</td>\n",
              "      <td>1582.985107</td>\n",
              "      <td>558.236572</td>\n",
              "    </tr>\n",
              "    <tr>\n",
              "      <th>8</th>\n",
              "      <td>2933503</td>\n",
              "      <td>//ae01.alicdn.com/kf/HTB1FW8rcA7mBKNjSZFyq6zyd...</td>\n",
              "      <td>Girls Tops T-Shirt Clothing Short-Sleeve Print...</td>\n",
              "      <td>1209.090942</td>\n",
              "      <td>2177.048340</td>\n",
              "      <td>1231.833740</td>\n",
              "    </tr>\n",
              "  </tbody>\n",
              "</table>\n",
              "</div>"
            ],
            "text/plain": [
              "        Id  ... forecast_CPM_text_image\n",
              "0  2929970  ...             1710.763794\n",
              "1  2793923  ...             1048.000610\n",
              "2  1221713  ...             1671.419434\n",
              "3  3395087  ...              205.346603\n",
              "5  2370688  ...              936.784485\n",
              "6  2455061  ...             2832.312744\n",
              "7  2412673  ...              558.236572\n",
              "8  2933503  ...             1231.833740\n",
              "\n",
              "[8 rows x 6 columns]"
            ]
          },
          "metadata": {
            "tags": []
          },
          "execution_count": 99
        }
      ]
    }
  ]
}