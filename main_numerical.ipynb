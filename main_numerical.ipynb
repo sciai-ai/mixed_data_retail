{
  "nbformat": 4,
  "nbformat_minor": 0,
  "metadata": {
    "colab": {
      "name": "main_numerical.ipynb",
      "provenance": [],
      "collapsed_sections": [],
      "toc_visible": true,
      "mount_file_id": "18LPFJcy4FR4GcVBJQBXcaS6TyokTtUw3",
      "authorship_tag": "ABX9TyPXORJpi2v7WYoDqS5kndg3",
      "include_colab_link": true
    },
    "kernelspec": {
      "name": "python3",
      "display_name": "Python 3"
    },
    "accelerator": "TPU"
  },
  "cells": [
    {
      "cell_type": "markdown",
      "metadata": {
        "id": "view-in-github",
        "colab_type": "text"
      },
      "source": [
        "<a href=\"https://colab.research.google.com/github/talalba/mixed_data_retail/blob/master/main_numerical.ipynb\" target=\"_parent\"><img src=\"https://colab.research.google.com/assets/colab-badge.svg\" alt=\"Open In Colab\"/></a>"
      ]
    },
    {
      "cell_type": "code",
      "metadata": {
        "id": "JHGzB9VZNwj3",
        "colab_type": "code",
        "colab": {}
      },
      "source": [
        "# import the necessary packages\n",
        "from sklearn.model_selection import train_test_split\n",
        "from keras.layers.core import Dense\n",
        "from keras.models import Model\n",
        "from keras.optimizers import Adam\n",
        "from keras.layers import concatenate\n",
        "import numpy as np\n",
        "import argparse\n",
        "import locale\n",
        "import os\n",
        "import pandas as pd\n",
        "import csv\n",
        "import glob\n",
        "import os\n",
        "from PIL import Image\n",
        "import requests\n",
        "from io import BytesIO\n",
        "import matplotlib.pyplot as plt\n",
        "from tqdm import tqdm\n",
        "from skimage.io import imread\n",
        "from sklearn.model_selection import train_test_split\n",
        "from pandas import read_excel\n",
        "import cv2\n",
        "import pathlib\n",
        "import multiprocessing\n",
        "from joblib import Parallel, delayed\n",
        "num_cores = multiprocessing.cpu_count()\n",
        "# from models import models\n",
        "import importlib\n",
        "import locale\n",
        "from random import randrange\n",
        "from sklearn.preprocessing import MinMaxScaler\n",
        "from google.colab import drive\n",
        "# drive.mount('/content/drive')\n",
        "import gzip\n",
        "import MySQLdb\n",
        "\n"
      ],
      "execution_count": 0,
      "outputs": []
    },
    {
      "cell_type": "code",
      "metadata": {
        "id": "MlgJK8krSXEk",
        "colab_type": "code",
        "colab": {}
      },
      "source": [
        "directoryPath = '/content/drive/My Drive/'\n",
        "# ! ls /content/drive/My\\ Drive/\n",
        "f = gzip.GzipFile(directoryPath+'data_images.npy.gz', \"r\")\n",
        "data_images = np.load(f)\n",
        "train_data_with_images = pd.read_pickle(directoryPath+'dbo.train_data_with_images.pkl')\n",
        "target_variable = 'Impressions'\n",
        "\n"
      ],
      "execution_count": 0,
      "outputs": []
    },
    {
      "cell_type": "code",
      "metadata": {
        "id": "Zbdmwhq6g1Wm",
        "colab_type": "code",
        "colab": {}
      },
      "source": [
        "# define db connection\n",
        "DB_HOST = 'xyyz.xyx.com'\n",
        "DB_DATABASE = 'xyyz'\n",
        "DB_USERNAME = 'xyyz'\n",
        "DB_PASSWORD = 'xyyz'\n",
        "DB_PORT = 3306\n",
        "\n",
        "db_conn = MySQLdb.connect(host=DB_HOST,    # your host, usually localhost\n",
        "                          user=DB_USERNAME,         # your username\n",
        "                          passwd=DB_PASSWORD,  # your password\n",
        "                          db=DB_DATABASE)\n",
        "cur = db_conn.cursor()\n",
        "\n",
        "query = 'Select * from table'\n",
        "\n",
        "data = pd.read_sql(query,db_conn)\n",
        "\n"
      ],
      "execution_count": 0,
      "outputs": []
    },
    {
      "cell_type": "code",
      "metadata": {
        "id": "oD_Vr0sYVC9F",
        "colab_type": "code",
        "outputId": "6d651248-c2b4-4c65-e8aa-6f1698c18b02",
        "colab": {
          "base_uri": "https://localhost:8080/",
          "height": 51
        }
      },
      "source": [
        "print(data_images.shape)\n",
        "print(train_data_with_images.shape)"
      ],
      "execution_count": 0,
      "outputs": [
        {
          "output_type": "stream",
          "text": [
            "(788, 128, 128, 3)\n",
            "(788, 6)\n"
          ],
          "name": "stdout"
        }
      ]
    },
    {
      "cell_type": "code",
      "metadata": {
        "id": "HyqC8UreeKGk",
        "colab_type": "code",
        "colab": {}
      },
      "source": [
        "df = train_data_with_images.drop(['Id_x'],axis=1)\n",
        "\n",
        "# df['CPM'] = np.log(df['CPM'])\n",
        "images = data_images\n",
        "\n",
        "split = train_test_split(df, images, test_size=0.4, random_state=42)\n",
        "(trainAttrX, testAttrX, trainImagesX, testImagesX) = split\n",
        "\n",
        "\n",
        "# cs = MinMaxScaler()\n",
        "trainX = cs.fit_transform(trainAttrX.drop([target_variable],axis=1))\n",
        "testX = cs.transform(testAttrX.drop([target_variable],axis=1))\n",
        "\n",
        "# trainX = trainAttrX.drop([target_variable],axis=1).values\n",
        "# testX = testAttrX.drop([target_variable],axis=1).values\n",
        "\n",
        "\n",
        "trainX.shape\n",
        "testX.shape\n",
        "\n",
        "# trainAttrX[target_variable] = np.log(trainAttrX[target_variable])\n",
        "\n",
        "maxPrice = trainAttrX[target_variable].max()\n",
        "trainY = (trainAttrX[target_variable]/ maxPrice).values\n",
        "testY = (testAttrX[target_variable]/ maxPrice).values\n",
        "\n",
        "# trainY = (trainAttrX[target_variable]).values\n",
        "# testY = (testAttrX[target_variable]).values\n"
      ],
      "execution_count": 0,
      "outputs": []
    },
    {
      "cell_type": "code",
      "metadata": {
        "id": "ASyGuknIejK4",
        "colab_type": "code",
        "colab": {}
      },
      "source": [
        "# import the necessary packages\n",
        "from keras.models import Sequential\n",
        "from keras.layers.normalization import BatchNormalization\n",
        "from keras.layers.convolutional import Conv2D\n",
        "from keras.layers.convolutional import MaxPooling2D\n",
        "from keras.layers.core import Activation\n",
        "from keras.layers.core import Dropout\n",
        "from keras.layers.core import Dense\n",
        "from keras.layers import Flatten\n",
        "from keras.layers import Input\n",
        "from keras.models import Model\n",
        "from keras import optimizers\n",
        "\n",
        "model = Sequential()\n",
        "model.add(Dense(15, input_dim=trainX.shape[1], activation=\"relu\"))\n",
        "# model.add(Dense(2, activation=\"relu\"))\n",
        "model.add(Dense(1, activation=\"linear\"))\n",
        "\n",
        "opt = Adam(lr=1e-4, decay=1e-2 / 200)\n",
        "# opt = optimizers.SGD(lr=0.01, momentum=0.0, nesterov=False)\n",
        "\n",
        "model.compile(loss=\"mean_squared_error\", optimizer=opt)\n",
        "# train the model\n",
        "print(\"[INFO] training model...\")\n",
        "model.fit(trainX, trainY, validation_data=(testX, testY),\n",
        "\tepochs=200, batch_size=8)\n",
        "preds = model.predict(testX)\n",
        "#"
      ],
      "execution_count": 0,
      "outputs": []
    },
    {
      "cell_type": "code",
      "metadata": {
        "id": "0Ny_W6DpldT-",
        "colab_type": "code",
        "outputId": "f6184b76-d98c-4467-b62a-fbf7f16f2e4e",
        "colab": {
          "base_uri": "https://localhost:8080/",
          "height": 282
        }
      },
      "source": [
        "plt.scatter(testY,preds.flatten())\n"
      ],
      "execution_count": 0,
      "outputs": [
        {
          "output_type": "execute_result",
          "data": {
            "text/plain": [
              "<matplotlib.collections.PathCollection at 0x7fbc08bf3e80>"
            ]
          },
          "metadata": {
            "tags": []
          },
          "execution_count": 98
        },
        {
          "output_type": "display_data",
          "data": {
            "image/png": "[encoded data removed]",
            "text/plain": [
              "<Figure size 432x288 with 1 Axes>"
            ]
          },
          "metadata": {
            "tags": [],
            "needs_background": "light"
          }
        }
      ]
    }
  ]
}