{
  "nbformat": 4,
  "nbformat_minor": 0,
  "metadata": {
    "colab": {
      "name": "main_Image.ipynb",
      "provenance": [],
      "collapsed_sections": [],
      "machine_shape": "hm",
      "mount_file_id": "18LPFJcy4FR4GcVBJQBXcaS6TyokTtUw3",
      "authorship_tag": "ABX9TyPwD+KrbN7Nud82AKbrEyn2",
      "include_colab_link": true
    },
    "kernelspec": {
      "name": "python3",
      "display_name": "Python 3"
    },
    "accelerator": "TPU"
  },
  "cells": [
    {
      "cell_type": "markdown",
      "metadata": {
        "id": "view-in-github",
        "colab_type": "text"
      },
      "source": [
        "<a href=\"https://colab.research.google.com/github/talalba/mixed_data_retail/blob/master/main_Image.ipynb\" target=\"_parent\"><img src=\"https://colab.research.google.com/assets/colab-badge.svg\" alt=\"Open In Colab\"/></a>"
      ]
    },
    {
      "cell_type": "code",
      "metadata": {
        "id": "JHGzB9VZNwj3",
        "colab_type": "code",
        "colab": {}
      },
      "source": [
        "# import the necessary packages\n",
        "from sklearn.model_selection import train_test_split\n",
        "from keras.layers.core import Dense\n",
        "from keras.models import Model\n",
        "from keras.optimizers import Adam\n",
        "from keras.layers import concatenate\n",
        "import numpy as np\n",
        "import argparse\n",
        "import locale\n",
        "import os\n",
        "import pandas as pd\n",
        "import csv\n",
        "import glob\n",
        "import os\n",
        "from PIL import Image\n",
        "import requests\n",
        "from io import BytesIO\n",
        "import matplotlib.pyplot as plt\n",
        "from tqdm import tqdm\n",
        "from skimage.io import imread\n",
        "from sklearn.model_selection import train_test_split\n",
        "from pandas import read_excel\n",
        "import cv2\n",
        "import pathlib\n",
        "import multiprocessing\n",
        "from joblib import Parallel, delayed\n",
        "num_cores = multiprocessing.cpu_count()\n",
        "# from models import models\n",
        "import importlib\n",
        "import locale\n",
        "from random import randrange\n",
        "from sklearn.preprocessing import MinMaxScaler\n",
        "from google.colab import drive\n",
        "# drive.mount('/content/drive')\n",
        "import gzip\n",
        "\n"
      ],
      "execution_count": 0,
      "outputs": []
    },
    {
      "cell_type": "code",
      "metadata": {
        "id": "laSobBExSMcF",
        "colab_type": "code",
        "outputId": "537b8da6-7086-4637-e5c8-9874ff686f7c",
        "colab": {
          "base_uri": "https://localhost:8080/",
          "height": 122
        }
      },
      "source": [
        "from google.colab import drive\n",
        "drive.mount('/content/drive')"
      ],
      "execution_count": 5,
      "outputs": [
        {
          "output_type": "stream",
          "text": [
            "Go to this URL in a browser: https://accounts.google.com/o/oauth2/auth?client_id=947318989803-6bn6qk8qdgf4n4g3pfee6491hc0brc4i.apps.googleusercontent.com&redirect_uri=urn%3aietf%3awg%3aoauth%3a2.0%3aoob&response_type=code&scope=email%20https%3a%2f%2fwww.googleapis.com%2fauth%2fdocs.test%20https%3a%2f%2fwww.googleapis.com%2fauth%2fdrive%20https%3a%2f%2fwww.googleapis.com%2fauth%2fdrive.photos.readonly%20https%3a%2f%2fwww.googleapis.com%2fauth%2fpeopleapi.readonly\n",
            "\n",
            "Enter your authorization code:\n",
            "··········\n",
            "Mounted at /content/drive\n"
          ],
          "name": "stdout"
        }
      ]
    },
    {
      "cell_type": "code",
      "metadata": {
        "id": "MlgJK8krSXEk",
        "colab_type": "code",
        "colab": {}
      },
      "source": [
        "directoryPath = '/content/drive/My Drive/'\n",
        "image_path = '/content/drive/My Drive//Colab Notebooks/images2/'\n",
        "# ! ls /content/drive/My\\ Drive/\n",
        "data_all = pd.read_pickle(directoryPath+'dbo.data_all3.pkl')\n",
        "# f = gzip.GzipFile(directoryPath+'data_images.npy.gz', \"r\")\n",
        "# data_images = np.load(f)\n",
        "# train_data_with_images = pd.read_pickle(directoryPath+'dbo.train_data_with_images.pkl')\n",
        "target_variable = 'CPM'\n",
        "\n",
        "# train_data = data_all[['Id_x','Impressions','AveragePosition','Sold','Rating',target_variable]]\n",
        "train_data = data_all[['Id_x',target_variable,'Title','KeyWords']]\n",
        "train_data = train_data.loc[train_data[target_variable]>0]\n",
        "train_data = train_data.dropna()\n",
        "\n"
      ],
      "execution_count": 0,
      "outputs": []
    },
    {
      "cell_type": "code",
      "metadata": {
        "id": "7zchokmcof6P",
        "colab_type": "code",
        "colab": {
          "base_uri": "https://localhost:8080/",
          "height": 51
        },
        "outputId": "acf1f712-6d5c-47b6-c110-04227b04bed3"
      },
      "source": [
        "# loading training images and resize\n",
        "train_img = []\n",
        "id = []\n",
        "heights = []\n",
        "widths = []\n",
        "i=0\n",
        "for img_name in tqdm(train_data['Id_x'].values.astype(str)):\n",
        "    # defining the image path\n",
        "    path = image_path + img_name + '.jpg'\n",
        "    try:\n",
        "        # reading the image\n",
        "        img = cv2.imread(path)\n",
        "        heights.append(img.shape[0])\n",
        "        widths.append(img.shape[1])\n",
        "        # normalizing the pixel values\n",
        "        # converting the type of pixel to float 32\n",
        "        # img = img.astype('float32')\n",
        "        # appending the image into the list\n",
        "        img = cv2.resize(img, (128, 128))\n",
        "        img = img/255.0\n",
        "        train_img.append(img)\n",
        "        id.append(img_name)\n",
        "    except:\n",
        "        pass\n",
        "\n",
        "data_images =  np.array(train_img)\n",
        "len(data_images)\n",
        "len(id)\n",
        "# type(data_images[1,1,1][0])"
      ],
      "execution_count": 19,
      "outputs": [
        {
          "output_type": "stream",
          "text": [
            "100%|██████████| 309/309 [00:03<00:00, 82.34it/s]\n"
          ],
          "name": "stderr"
        },
        {
          "output_type": "execute_result",
          "data": {
            "text/plain": [
              "272"
            ]
          },
          "metadata": {
            "tags": []
          },
          "execution_count": 19
        }
      ]
    },
    {
      "cell_type": "code",
      "metadata": {
        "id": "oD_Vr0sYVC9F",
        "colab_type": "code",
        "outputId": "bdc1e944-b6b9-414a-df55-f55721740ae9",
        "colab": {
          "base_uri": "https://localhost:8080/",
          "height": 51
        }
      },
      "source": [
        "print(data_images.shape)\n",
        "print(train_data_with_images.shape)"
      ],
      "execution_count": 4,
      "outputs": [
        {
          "output_type": "stream",
          "text": [
            "(788, 128, 128, 3)\n",
            "(788, 6)\n"
          ],
          "name": "stdout"
        }
      ]
    },
    {
      "cell_type": "code",
      "metadata": {
        "id": "HyqC8UreeKGk",
        "colab_type": "code",
        "colab": {}
      },
      "source": [
        "train_data_with_images = train_data.loc[train_data['Id_x'].isin(id)]\n",
        "\n",
        "df = train_data_with_images.drop(['Id_x'],axis=1)\n",
        "\n",
        "# df['CPM'] = np.log(df['CPM'])\n",
        "images = data_images\n",
        "\n",
        "split = train_test_split(df, images, test_size=0.4, random_state=42)\n",
        "(trainAttrX, testAttrX, trainImagesX, testImagesX) = split\n",
        "\n",
        "\n",
        "# cs = MinMaxScaler()\n",
        "# trainX = cs.fit_transform(trainAttrX.drop([target_variable],axis=1))\n",
        "# testX = cs.transform(testAttrX.drop([target_variable],axis=1))\n",
        "\n",
        "# trainX = trainAttrX.drop([target_variable],axis=1).values\n",
        "# testX = testAttrX.drop([target_variable],axis=1).values\n",
        "\n",
        "\n",
        "# trainX.shape\n",
        "# testX.shape\n",
        "\n",
        "# trainAttrX[target_variable] = np.log(trainAttrX[target_variable])\n",
        "\n",
        "maxPrice = trainAttrX[target_variable].max()\n",
        "trainY = (trainAttrX[target_variable]/ maxPrice).values\n",
        "testY = (testAttrX[target_variable]/ maxPrice).values\n",
        "\n",
        "# trainY = (trainAttrX[target_variable]).values\n",
        "# testY = (testAttrX[target_variable]).values\n"
      ],
      "execution_count": 0,
      "outputs": []
    },
    {
      "cell_type": "code",
      "metadata": {
        "id": "U_G2lla4Vj3Y",
        "colab_type": "code",
        "colab": {}
      },
      "source": [
        "# # import the necessary packages\n",
        "# from keras.models import Sequential\n",
        "# from keras.layers.normalization import BatchNormalization\n",
        "# from keras.layers.convolutional import Conv2D\n",
        "# from keras.layers.convolutional import MaxPooling2D\n",
        "# from keras.layers.core import Activation\n",
        "# from keras.layers.core import Dropout\n",
        "# from keras.layers.core import Dense\n",
        "# from keras.layers import Flatten\n",
        "# from keras.layers import Input\n",
        "# from keras.models import Model\n",
        "# def create_cnn(width, height, depth, filters=(16, 32, 64), regress=False):\n",
        "# \t# initialize the input shape and channel dimension, assuming\n",
        "# \t# TensorFlow/channels-last ordering\n",
        "# \tinputShape = (height, width, depth)\n",
        "# \tchanDim = -1\n",
        "\n",
        "# \t# define the model input\n",
        "# \tinputs = Input(shape=inputShape)\n",
        "\n",
        "# \t# loop over the number of filters\n",
        "# \tfor (i, f) in enumerate(filters):\n",
        "# \t\t# if this is the first CONV layer then set the input\n",
        "# \t\t# appropriately\n",
        "# \t\tif i == 0:\n",
        "# \t\t\tx = inputs\n",
        "\n",
        "# \t\t# CONV => RELU => BN => POOL\n",
        "# \t\tx = Conv2D(f, (3, 3), padding=\"same\")(x)\n",
        "# \t\tx = Activation(\"relu\")(x)\n",
        "# \t\tx = BatchNormalization(axis=chanDim)(x)\n",
        "# \t\tx = MaxPooling2D(pool_size=(2, 2))(x)\n",
        "# \t\t# flatten the volume, then FC => RELU => BN => DROPOUT\n",
        "# \t\tx = Flatten()(x)\n",
        "# \t\tx = Dense(16)(x)\n",
        "# \t\tx = Activation(\"relu\")(x)\n",
        "# \t\tx = BatchNormalization(axis=chanDim)(x)\n",
        "# \t\tx = Dropout(0.5)(x)\n",
        "\n",
        "# \t\t# apply another FC layer, this one to match the number of nodes\n",
        "# \t\t# coming out of the MLP\n",
        "# \t\tx = Dense(4)(x)\n",
        "# \t\tx = Activation(\"relu\")(x)\n",
        "\n",
        "# \t\t# check to see if the regression node should be added\n",
        "# \t\tif regress:\n",
        "# \t\t\tx = Dense(1, activation=\"linear\")(x)\n",
        "\n",
        "# \t\t# construct the CNN\n",
        "# \t\tmodel = Model(inputs, x)\n",
        "\n",
        "# \t\t# return the CNN\n",
        "# \t\treturn model\n"
      ],
      "execution_count": 0,
      "outputs": []
    },
    {
      "cell_type": "code",
      "metadata": {
        "id": "-nbeSq7OVy0q",
        "colab_type": "code",
        "colab": {}
      },
      "source": [
        "# model = create_cnn(128, 128, 3, regress=True)\n",
        "# opt = Adam(lr=1e-2, decay=1e-3 / 200)\n",
        "from __future__ import print_function\n",
        "import keras\n",
        "from keras.models import Sequential\n",
        "from keras.layers import Dense, Dropout, Flatten\n",
        "from keras.layers import Conv2D, MaxPooling2D\n",
        "from keras.callbacks import ModelCheckpoint\n",
        "from keras.models import model_from_json\n",
        "from keras import backend as K\n",
        "from keras.datasets import mnist\n",
        "import numpy as np\n",
        "\n",
        "# opt=keras.optimizers.rmsprop(lr=0.0001, decay=1e-6)\n",
        "input_shape = (128,128,3)\n",
        "model = Sequential()\n",
        "model.add(Conv2D(32, kernel_size=(3, 3),\n",
        "                 activation='relu',\n",
        "                 input_shape=input_shape))\n",
        "model.add(MaxPooling2D(pool_size=(2, 2)))\n",
        "model.add(Conv2D(64, (3, 3), activation='relu'))\n",
        "model.add(MaxPooling2D(pool_size=(2, 2)))\n",
        "model.add(Conv2D(128, (3, 3), activation='relu'))\n",
        "model.add(MaxPooling2D(pool_size=(2, 2)))\n",
        "# model.add(Conv2D(256, (3, 3), activation='relu'))\n",
        "# model.add(MaxPooling2D(pool_size=(2, 2)))\n",
        "# model.add(Conv2D(512, (3, 3), activation='relu'))\n",
        "# model.add(Dropout(0.25))\n",
        "model.add(Flatten())\n",
        "model.add(Dense(512, activation='relu'))\n",
        "# model.add(Dropout(0.5))\n",
        "model.add(Dense(256, activation='relu'))\n",
        "# model.add(Dropout(0.25))\n",
        "model.add(Dense(20, activation='relu'))\n",
        "model.add(Dropout(0.5))\n",
        "model.add(Dense(1))\n",
        "\n",
        "model.compile(loss=keras.losses.mean_absolute_error,\n",
        "              optimizer=keras.optimizers.Adam(),\n",
        "              metrics=['mae'])\n",
        "\n",
        "# model.compile(loss=\"mean_absolute_percentage_error\", optimizer=opt)\n",
        "# train the model\n",
        "print(\"[INFO] training model...\")\n",
        "model.fit(trainImagesX, trainY, validation_data=(testImagesX, testY),\n",
        "\tepochs=20, batch_size=8)\n",
        "preds = model.predict(testImagesX)\n"
      ],
      "execution_count": 0,
      "outputs": []
    },
    {
      "cell_type": "code",
      "metadata": {
        "id": "j-B-9eVKWuM8",
        "colab_type": "code",
        "colab": {
          "base_uri": "https://localhost:8080/",
          "height": 282
        },
        "outputId": "d07dd2ff-b47f-412d-91c9-d0eaaf6f941d"
      },
      "source": [
        "plt.scatter(testY,preds.flatten())\n",
        "preds.flatten().min"
      ],
      "execution_count": 37,
      "outputs": [
        {
          "output_type": "execute_result",
          "data": {
            "text/plain": [
              "<function ndarray.min>"
            ]
          },
          "metadata": {
            "tags": []
          },
          "execution_count": 37
        },
        {
          "output_type": "display_data",
          "data": {
            "image/png": "[encoded data removed]",
            "text/plain": [
              "<Figure size 432x288 with 1 Axes>"
            ]
          },
          "metadata": {
            "tags": [],
            "needs_background": "light"
          }
        }
      ]
    },
    {
      "cell_type": "code",
      "metadata": {
        "id": "GyF-lLEsrDiq",
        "colab_type": "code",
        "colab": {}
      },
      "source": [
        "# model = create_cnn(128, 128, 3, regress=True)\n",
        "# opt = Adam(lr=1e-2, decay=1e-3 / 200)\n",
        "\n",
        "# model.compile(loss=keras.losses.mean_squared_error,\n",
        "#               optimizer=keras.optimizers.Adadelta(),\n",
        "#               metrics=['mse'])\n",
        "# model.fit(trainImagesX, trainY, validation_data=(testImagesX, testY),\n",
        "# \tepochs=3, batch_size=8)\n",
        "# preds = model.predict(testImagesX)"
      ],
      "execution_count": 0,
      "outputs": []
    },
    {
      "cell_type": "code",
      "metadata": {
        "id": "ASyGuknIejK4",
        "colab_type": "code",
        "colab": {}
      },
      "source": [
        "# # import the necessary packages\n",
        "# from keras.models import Sequential\n",
        "# from keras.layers.normalization import BatchNormalization\n",
        "# from keras.layers.convolutional import Conv2D\n",
        "# from keras.layers.convolutional import MaxPooling2D\n",
        "# from keras.layers.core import Activation\n",
        "# from keras.layers.core import Dropout\n",
        "# from keras.layers.core import Dense\n",
        "# from keras.layers import Flatten\n",
        "# from keras.layers import Input\n",
        "# from keras.models import Model\n",
        "# from keras import optimizers\n",
        "\n",
        "# model = Sequential()\n",
        "# model.add(Dense(15, input_dim=trainX.shape[1], activation=\"relu\"))\n",
        "# # model.add(Dense(2, activation=\"relu\"))\n",
        "# model.add(Dense(1, activation=\"linear\"))\n",
        "\n",
        "# opt = Adam(lr=1e-4, decay=1e-2 / 200)\n",
        "# # opt = optimizers.SGD(lr=0.01, momentum=0.0, nesterov=False)\n",
        "\n",
        "# model.compile(loss=\"mean_squared_error\", optimizer=opt)\n",
        "# # train the model\n",
        "# print(\"[INFO] training model...\")\n",
        "# model.fit(trainX, trainY, validation_data=(testX, testY),\n",
        "# \tepochs=200, batch_size=8)\n",
        "# preds = model.predict(testX)\n",
        "# #"
      ],
      "execution_count": 0,
      "outputs": []
    },
    {
      "cell_type": "code",
      "metadata": {
        "id": "0Ny_W6DpldT-",
        "colab_type": "code",
        "outputId": "f6184b76-d98c-4467-b62a-fbf7f16f2e4e",
        "colab": {
          "base_uri": "https://localhost:8080/",
          "height": 282
        }
      },
      "source": [
        "# plt.scatter(testY,preds.flatten())\n"
      ],
      "execution_count": 0,
      "outputs": [
        {
          "output_type": "execute_result",
          "data": {
            "text/plain": [
              "<matplotlib.collections.PathCollection at 0x7fbc08bf3e80>"
            ]
          },
          "metadata": {
            "tags": []
          },
          "execution_count": 98
        },
        {
          "output_type": "display_data",
          "data": {
            "image/png": "[encoded data removed]",
            "text/plain": [
              "<Figure size 432x288 with 1 Axes>"
            ]
          },
          "metadata": {
            "tags": [],
            "needs_background": "light"
          }
        }
      ]
    }
  ]
}